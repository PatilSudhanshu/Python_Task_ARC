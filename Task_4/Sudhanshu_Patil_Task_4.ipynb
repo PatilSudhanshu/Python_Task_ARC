{
 "cells": [
  {
   "cell_type": "markdown",
   "id": "9aaaea1b-9c7a-42c5-a2ed-991494f0d982",
   "metadata": {},
   "source": [
    "# Task_4\n"
   ]
  },
  {
   "cell_type": "markdown",
   "id": "c4b8854a-2e5b-4496-b4ca-bf713a6c9154",
   "metadata": {},
   "source": [
    "### A . Dictionary\n",
    "* give example of 8 dictionary function/methods with proper links and documentation"
   ]
  },
  {
   "cell_type": "markdown",
   "id": "5cf1391d-34c5-4054-bc00-811cd4f07e0a",
   "metadata": {},
   "source": [
    "\n",
    "\n",
    "#### B. create 10 if else with input code"
   ]
  },
  {
   "cell_type": "raw",
   "id": "8582d730-e886-47d7-bc3f-b01ed007100f",
   "metadata": {},
   "source": []
  },
  {
   "cell_type": "markdown",
   "id": "c422ed9f-4597-4dae-8164-52d57b6e443a",
   "metadata": {},
   "source": [
    "# A. Dictionary"
   ]
  },
  {
   "cell_type": "markdown",
   "id": "8704ee2d-a963-4f04-8732-2c9325854870",
   "metadata": {},
   "source": [
    "* A Python dictionary is a collection of items, similar to lists and tuples. However, unlike lists and tuples, each item in a dictionary is a key-value pair (consisting of a key and a value)."
   ]
  },
  {
   "cell_type": "code",
   "execution_count": 17,
   "id": "f6774686-c6ed-42fa-8245-19b9a8607042",
   "metadata": {},
   "outputs": [
    {
     "name": "stdout",
     "output_type": "stream",
     "text": [
      "{'India': 'Delhi', 'Japan': 'Tokyo', 'China': 'Hong Kong'}\n"
     ]
    }
   ],
   "source": [
    "# creating a dictionary\n",
    "\n",
    "country_capitals = {\n",
    "  \"India\": \"Delhi\", \n",
    "  \"Japan\": \"Tokyo\", \n",
    "  \"China\": \"Hong Kong\"\n",
    "}\n",
    "\n",
    "# printing the dictionary\n",
    "print(country_capitals)\n",
    "\n"
   ]
  },
  {
   "cell_type": "markdown",
   "id": "56d372ae-6147-44a4-94d9-f0b6d4bf184d",
   "metadata": {},
   "source": [
    "* The country_capitals dictionary has three elements (key-value pairs), where 'India' is the key and 'Delhi' is the value assigned to it and so on."
   ]
  },
  {
   "cell_type": "code",
   "execution_count": 15,
   "id": "3e500679-751b-4b3c-b734-4bd246005afa",
   "metadata": {},
   "outputs": [
    {
     "name": "stdout",
     "output_type": "stream",
     "text": [
      "This is a dictionary of product in online store : {'product_id': '100001', 'name': 'Wireless Bluetooth Headphones', 'brand': 'Sony', 'price': 2999, 'in_stock': True, 'ratings': 4.1, 'categories': ['Electronics', 'Audio']}\n"
     ]
    }
   ],
   "source": [
    "product_info = {\n",
    "    \"product_id\": \"100001\",\n",
    "    \"name\": \"Wireless Bluetooth Headphones\",\n",
    "    \"brand\": \"Sony\",\n",
    "    \"price\": 2999,\n",
    "    \"in_stock\": True,\n",
    "    \"ratings\": 4.1,\n",
    "    \"categories\": [\"Electronics\", \"Audio\"]\n",
    "}\n",
    "print('This is a dictionary of product in online store :', product_info)"
   ]
  },
  {
   "cell_type": "markdown",
   "id": "816f2c9a-40f9-4fe0-bc0b-2831e3c4d46c",
   "metadata": {},
   "source": [
    "##### Notes:\n",
    "* Dictionary keys must be immutable, such as tuples, strings, integers, etc.\n",
    "* We cannot use mutable (changeable) objects such as lists as keys.\n",
    "* We can also create a dictionary using a Python built-in function dict().\n",
    "* https://www.programiz.com/python-programming/methods/built-in/dict"
   ]
  },
  {
   "cell_type": "markdown",
   "id": "3e188e20-2695-4411-b9b5-c94c222f4497",
   "metadata": {},
   "source": [
    "#### Valid and Invalid Dictionaries\n",
    "* Keys of a dictionary must be immutable\r",
    "* \n",
    "Immutable objects can't be changed once created. Some immutable objects in Python are integer, tuple and string."
   ]
  },
  {
   "cell_type": "code",
   "execution_count": 40,
   "id": "ac0dd4e7-c9e8-4478-ae23-ce697aea22cd",
   "metadata": {},
   "outputs": [
    {
     "name": "stdout",
     "output_type": "stream",
     "text": [
      "This is valid dict : {1: 'one', 2: 'two', 3: 'three'}\n"
     ]
    },
    {
     "ename": "TypeError",
     "evalue": "unhashable type: 'list'",
     "output_type": "error",
     "traceback": [
      "\u001b[1;31m---------------------------------------------------------------------------\u001b[0m",
      "\u001b[1;31mTypeError\u001b[0m                                 Traceback (most recent call last)",
      "Cell \u001b[1;32mIn[40], line 10\u001b[0m\n\u001b[0;32m      5\u001b[0m \u001b[38;5;28mprint\u001b[39m (\u001b[38;5;124m'\u001b[39m\u001b[38;5;124mThis is valid dict :\u001b[39m\u001b[38;5;124m'\u001b[39m, my_dict)\n\u001b[0;32m      8\u001b[0m \u001b[38;5;66;03m# invalid dictionary\u001b[39;00m\n\u001b[0;32m      9\u001b[0m \u001b[38;5;66;03m# Error: using a list as a key is not allowed\u001b[39;00m\n\u001b[1;32m---> 10\u001b[0m invalid_dict \u001b[38;5;241m=\u001b[39m {\u001b[38;5;241m1\u001b[39m: \u001b[38;5;124m\"\u001b[39m\u001b[38;5;124mone\u001b[39m\u001b[38;5;124m\"\u001b[39m, [\u001b[38;5;241m1\u001b[39m, \u001b[38;5;241m2\u001b[39m]: \u001b[38;5;124m\"\u001b[39m\u001b[38;5;124mone two\u001b[39m\u001b[38;5;124m\"\u001b[39m}\n\u001b[0;32m     11\u001b[0m \u001b[38;5;28mprint\u001b[39m (\u001b[38;5;124m'\u001b[39m\u001b[38;5;124mThis is invalid dict :\u001b[39m\u001b[38;5;124m'\u001b[39m, invalid_dict)\n",
      "\u001b[1;31mTypeError\u001b[0m: unhashable type: 'list'"
     ]
    }
   ],
   "source": [
    "# valid dictionary\n",
    "\n",
    "# integer as a key\n",
    "my_dict = {1: \"one\", 2: \"two\", 3: \"three\"}\n",
    "print ('This is valid dict :', my_dict)\n",
    "\n",
    "\n",
    "# invalid dictionary\n",
    "\n",
    "invalid_dict = {1: \"one\", [1, 2]: \"one two\"}\n",
    "print ('This is invalid dict :', invalid_dict)       # Error: using a list as a key is not allowed\n"
   ]
  },
  {
   "cell_type": "markdown",
   "id": "6170ffcf-e1be-4b4f-b1c5-54a774d8b4d5",
   "metadata": {},
   "source": [
    "##### Keys of a dictionary must be unique\r",
    "* \n",
    "The keys of a dictionary must be unique. If there are duplicate keys, the later value of the key overwrites the previous value."
   ]
  },
  {
   "cell_type": "code",
   "execution_count": 49,
   "id": "1d68aba7-b8a9-4ea1-adbc-e3ad2f523671",
   "metadata": {},
   "outputs": [
    {
     "name": "stdout",
     "output_type": "stream",
     "text": [
      "{'Vinesh': ['A', 'C', 'B'], 'Neeraj': ['B', 'C', 'D'], 'Manu': ['D', 'B', 'D']}\n"
     ]
    }
   ],
   "source": [
    "# dict of students as \"keys\" and list of grade as \"values\"\n",
    "\n",
    "students_grades = {\n",
    "    \"Vinesh\": ['F', 'F', 'F'],\n",
    "    \"Neeraj\": ['B', 'C', 'D'],\n",
    "    \"Manu\": ['D', 'B', 'D'],\n",
    "    \"Vinesh\": ['A', 'C', 'B'],\n",
    "}\n",
    "\n",
    "print(students_grades)"
   ]
  },
  {
   "cell_type": "markdown",
   "id": "9d0542a8-6d97-4036-99dd-148b1f4be07c",
   "metadata": {},
   "source": [
    "* Here, the key \"Vinesh\" is first assigned to ['F', 'F', 'F'].\n",
    "* However, there is a second entry where \"Vinesh\" is assigned to \"Vinesh\": ['A', 'C', 'B'].\n",
    "* As duplicate keys are not allowed in a dictionary, the last entry  ['A', 'C', 'B']  overwrites the previous value ['F', 'F', 'F']."
   ]
  },
  {
   "cell_type": "markdown",
   "id": "541ec32e-d50e-4619-8820-ed63d67a0a86",
   "metadata": {},
   "source": [
    "## Methods"
   ]
  },
  {
   "cell_type": "markdown",
   "id": "cf8924e8-f4f4-40da-8bef-880fa27ffcc5",
   "metadata": {},
   "source": [
    "## Access Dictionary Items\n",
    "* We can access the value of a dictionary item by **placing the key inside square brackets**.\n",
    "* We can use the 'get()'  method to access dictionary items.\n"
   ]
  },
  {
   "cell_type": "code",
   "execution_count": 63,
   "id": "35289869-2f8f-437f-88d2-1569eb172026",
   "metadata": {},
   "outputs": [
    {
     "name": "stdout",
     "output_type": "stream",
     "text": [
      "{'a': 1, 'b': 2, 'c': 3, 'd': 4, 'e': 5, 'f': 6, 'g': 7, 'h': 8, 'i': 9, 'j': 10, 'p': 16, 'q': 17, 'r': 18, 's': 19, 't': 20, 'u': 21, 'v': 22, 'w': 23, 'x': 24, 'y': 25}\n",
      "7\n",
      "18\n"
     ]
    }
   ],
   "source": [
    "# dict of alphabets keys and position\n",
    "\n",
    "alphabet_positions = {\n",
    "    \"a\": 1,\n",
    "    \"b\": 2,\n",
    "    \"c\": 3,\n",
    "    \"d\": 4,\n",
    "    \"e\": 5,\n",
    "    \"f\": 6,\n",
    "    \"g\": 7,\n",
    "    \"h\": 8,\n",
    "    \"i\": 9,\n",
    "    \"j\": 10, \n",
    "    \"p\": 16,\n",
    "    \"q\": 17,\n",
    "    \"r\": 18,\n",
    "    \"s\": 19,\n",
    "    \"t\": 20, \n",
    "    \"u\": 21,\n",
    "    \"v\": 22,\n",
    "    \"w\": 23,\n",
    "    \"x\": 24,\n",
    "    \"y\": 25,\n",
    "    \n",
    "}\n",
    "print(alphabet_positions)\n",
    "\n",
    "# access the value of keys\n",
    "\n",
    "print(alphabet_positions[\"g\"])    # Output: 7\n",
    "print(alphabet_positions[\"r\"])    # Output: 18"
   ]
  },
  {
   "cell_type": "markdown",
   "id": "d38c8602-7aa1-475d-9fbd-d57bf5347682",
   "metadata": {},
   "source": [
    "# fromkeys()\n",
    "* The fromkeys() method creates a dictionary from the given sequence of keys and values.\n",
    "* syntax : dict.fromkeys(alphabets,number)\n",
    "* Parameters\n",
    "    * The fromkeys() method can take two parameters:\n",
    "        * alphabets - are the keys that can be any iterables like string, set, list, etc.\n",
    "        * numbers (Optional) - are the values that can be of any type or any iterables like string, set, list, etc.\n",
    "        * Note: The same value is assigned to all the keys of the dictionary.\n",
    "* Return Value\n",
    "    * The fromkeys() method returns:\n",
    "        * a new dictionary with the given sequence of keys and values\n",
    "        * Note: If the value of the dictionary is not provided, None is assigned to the keys."
   ]
  },
  {
   "cell_type": "code",
   "execution_count": 11,
   "id": "c8c4f18e-51d1-4bf5-bb3a-6b6c2d2ef66e",
   "metadata": {},
   "outputs": [
    {
     "name": "stdout",
     "output_type": "stream",
     "text": [
      "This are keys of dict {'a', 'b', 'e', 'd', 'c'}\n",
      "This is value of dict 10\n",
      "This is dict {'a': 10, 'b': 10, 'e': 10, 'd': 10, 'c': 10}\n"
     ]
    }
   ],
   "source": [
    "# keys of dict\n",
    "keys_of_dict = {\"a\",\"b\",\"c\",\"d\",\"e\"}\n",
    "print(f\"This are keys of dict {keys_of_dict}\")\n",
    "\n",
    "# value of dic\n",
    "number = 10\n",
    "print(f\"This is value of dict {number}\")\n",
    "\n",
    "# dict with keys and value\n",
    "dict  = dict.fromkeys(keys_of_dict,number)\n",
    "print(f\"This is dict {dict}\")"
   ]
  },
  {
   "cell_type": "markdown",
   "id": "d7df2dc2-a06f-4d7a-afeb-8dd392591462",
   "metadata": {},
   "source": [
    "## get()\n",
    "* We can use the 'get()'  method to access dictionary items.\n",
    "* syntax : dict.get(key[, value])"
   ]
  },
  {
   "cell_type": "markdown",
   "id": "67320cf9-70d3-467f-af72-216a68d3d53f",
   "metadata": {},
   "source": [
    "#### Parameters\n",
    "###### get() method takes maximum of two parameters:\n",
    "* key - key to be searched in the dictionary\n",
    "* value (optional) - Value to be returned if the key is not found. The default value is None."
   ]
  },
  {
   "cell_type": "markdown",
   "id": "85b4b323-2c7e-4712-9eb4-096710bb2a56",
   "metadata": {},
   "source": [
    "#### get() method returns:\n",
    "\n",
    "* the value for the specified key if key is in the dictionary.\n",
    "* None if the key is not found and value is not specified.\n",
    "* value if the key is not found and value is specified."
   ]
  },
  {
   "cell_type": "code",
   "execution_count": 82,
   "id": "9166fd56-41a0-4392-bcfd-649ceada8c81",
   "metadata": {},
   "outputs": [
    {
     "name": "stdout",
     "output_type": "stream",
     "text": [
      "Alice\n",
      "None\n",
      "USA\n"
     ]
    }
   ],
   "source": [
    "person = {\n",
    "    \"name\": \"Alice\",\n",
    "    \"age\": 30,\n",
    "    \"city\": \"New York\"\n",
    "}\n",
    "\n",
    "# Accessing an existing key\n",
    "name = person.get(\"name\")\n",
    "print(name)  # Output: Alice\n",
    "\n",
    "# Accessing a non-existing key without a default value\n",
    "country = person.get(\"country\")\n",
    "print(country)  # Output: None\n",
    "\n",
    "# Accessing a non-existing key with a default value\n",
    "country = person.get(\"country\", \"USA\")\n",
    "print(country)  # Output: USA\n"
   ]
  },
  {
   "cell_type": "markdown",
   "id": "6c70c318-2d03-436d-be94-f990332b774f",
   "metadata": {},
   "source": [
    "##### Python get() method Vs dict[key] to Access Elements\n",
    "* get() method returns a default value if the key is missing.\n",
    "* However, if the key is not found when you use dict[key], KeyError exception is raised."
   ]
  },
  {
   "cell_type": "code",
   "execution_count": 135,
   "id": "900f1392-d87f-401d-998b-24ff5c2a8153",
   "metadata": {},
   "outputs": [
    {
     "name": "stdout",
     "output_type": "stream",
     "text": [
      "phone number : None\n"
     ]
    },
    {
     "ename": "KeyError",
     "evalue": "'phone_number'",
     "output_type": "error",
     "traceback": [
      "\u001b[1;31m---------------------------------------------------------------------------\u001b[0m",
      "\u001b[1;31mKeyError\u001b[0m                                  Traceback (most recent call last)",
      "Cell \u001b[1;32mIn[135], line 20\u001b[0m\n\u001b[0;32m     16\u001b[0m \u001b[38;5;28mprint\u001b[39m(\u001b[38;5;124m\"\u001b[39m\u001b[38;5;124mphone number :\u001b[39m\u001b[38;5;124m\"\u001b[39m, contact_info\u001b[38;5;241m.\u001b[39mget(\u001b[38;5;124m'\u001b[39m\u001b[38;5;124mphone_number\u001b[39m\u001b[38;5;124m'\u001b[39m))\n\u001b[0;32m     19\u001b[0m \u001b[38;5;66;03m# Using [] results in KeyError\u001b[39;00m\n\u001b[1;32m---> 20\u001b[0m \u001b[38;5;28mprint\u001b[39m(contact_info[\u001b[38;5;124m'\u001b[39m\u001b[38;5;124mphone_number\u001b[39m\u001b[38;5;124m'\u001b[39m])\n",
      "\u001b[1;31mKeyError\u001b[0m: 'phone_number'"
     ]
    }
   ],
   "source": [
    "# nested dict\n",
    "contact_info = {\n",
    "    \"first_name\": \"jim\",\n",
    "    \"last_name\": \"carrey\",\n",
    "    \"email\": \"j.carry@hotmail.com\",\n",
    "    \"address\": {\n",
    "        \"street\": \"211B baker Street\",\n",
    "        \"city\": \"london\",\n",
    "        \"country\": \"UK\",\n",
    "    }\n",
    "}\n",
    "\n",
    "contact_info = {}\n",
    "\n",
    "# Using get() results in None\n",
    "print(\"phone number :\", contact_info.get('phone_number'))\n",
    "\n",
    "\n",
    "# Using [] results in KeyError\n",
    "print(contact_info['phone_number'])"
   ]
  },
  {
   "cell_type": "markdown",
   "id": "99d69d7b-3ec5-44df-a135-1608348963df",
   "metadata": {},
   "source": [
    "## Add Items to a Dictionary\n",
    "* We can add an item to a dictionary by assigning a value to a new key.\n",
    "* you can also use update()"
   ]
  },
  {
   "cell_type": "code",
   "execution_count": 86,
   "id": "9db62848-0b07-4783-bd0c-3065c2e94f0f",
   "metadata": {},
   "outputs": [
    {
     "name": "stdout",
     "output_type": "stream",
     "text": [
      "original dict is {'Monday': 'Mon', 'Tuesday': 'Tue', 'Wednesday': 'Wed', 'Saturday': 'Sat', 'Sunday': 'Sun'}\n",
      "updated dict is {'Monday': 'Mon', 'Tuesday': 'Tue', 'Wednesday': 'Wed', 'Saturday': 'Sat', 'Sunday': 'Sun', 'Thursday': 'Thurs', 'Friday': 'Fri'}\n"
     ]
    }
   ],
   "source": [
    "# dict of week days and their abbreviations\n",
    "\n",
    "days_abbreviation = {\n",
    "    \"Monday\": \"Mon\",\n",
    "    \"Tuesday\": \"Tue\",\n",
    "    \"Wednesday\": \"Wed\",\n",
    "    \"Saturday\": \"Sat\",\n",
    "    \"Sunday\": \"Sun\"\n",
    "}\n",
    "print('original dict is',days_abbreviation)\n",
    "\n",
    "# add an item with \"Thursday\" as key and \"Thurs\" as its value\n",
    "days_abbreviation[\"Thursday\"] = \"Thurs\"\n",
    "\n",
    "# add an item with \"Friday\" as key and \"Fri\" as its value\n",
    "days_abbreviation[\"Friday\"] = \"Fri\"\n",
    "\n",
    "print('updated dict is',days_abbreviation)"
   ]
  },
  {
   "cell_type": "markdown",
   "id": "73ca2c09-8e92-4200-be27-73995bc7d313",
   "metadata": {},
   "source": [
    "## Change Dictionary Items\n",
    "* Python dictionaries are mutable (changeable).\n",
    "* We can change the value of a dictionary element by referring to its key.\n",
    "#### Parameters\n",
    "* The update() method takes either a dictionary or an iterable object of key/value pairs (generally tuples).\n",
    "* If update() is called without passing parameters, the dictionary remains unchanged.\n",
    "#### Return Value from update()\n",
    "* update() method updates the dictionary with elements from a dictionary object or an iterable object of key/value pairs.\n",
    "* It doesn't return any value (returns None)."
   ]
  },
  {
   "cell_type": "code",
   "execution_count": 196,
   "id": "7f1e91ea-f588-4f22-a7d9-0a37be947e44",
   "metadata": {},
   "outputs": [
    {
     "name": "stdout",
     "output_type": "stream",
     "text": [
      "Dictionary of Employees and Their Skill Sets: {'Amit': ['Python'], 'Bharat': ['Project Management'], 'Charlie': ['Databases']}\n",
      "UPDATED Dictionary of Employees and Their Skill Sets: {'Amit': ['Python'], 'Bharat': 'R language', 'Charlie': ['Databases']}\n"
     ]
    }
   ],
   "source": [
    "# Dictionary of Employees and Their Skill Sets\n",
    "\n",
    "employees_skills = {\n",
    "    \"Amit\": [\"Python\"],\n",
    "    \"Bharat\": [\"Project Management\"],\n",
    "    \"Charlie\": [\"Databases\"]\n",
    "}\n",
    "print('Dictionary of Employees and Their Skill Sets:', employees_skills)\n",
    "\n",
    "# change the value of \"Italy\" key to \"Rome\"\n",
    "employees_skills[\"Bharat\"] = \"R language\"\n",
    "\n",
    "print('UPDATED Dictionary of Employees and Their Skill Sets:', employees_skills)"
   ]
  },
  {
   "cell_type": "markdown",
   "id": "f689e2ce-07ea-4c71-98d6-5195d93d7bfd",
   "metadata": {},
   "source": [
    "## update()\n",
    "* The update() method updates the dictionary with the elements from another dictionary object or from an iterable of key/value pairs.\n",
    "* syntax : dict.update([other])\n",
    "* The update() method takes either a dictionary or an iterable object of key/value pairs (generally tuples).\n",
    "* If update() is called without passing parameters, the dictionary remains unchanged.\n",
    "* update() method updates the dictionary with elements from a dictionary object or an iterable object of key/value pairs.\n",
    "* It doesn't return any value (returns None)."
   ]
  },
  {
   "cell_type": "code",
   "execution_count": 221,
   "id": "f7c25e7f-f505-44ec-8287-4d314dfbccdb",
   "metadata": {},
   "outputs": [
    {
     "name": "stdout",
     "output_type": "stream",
     "text": [
      "oringinal info :  {'title': 'Inception', 'director': 'Christopher Nolan', 'release_year': 2010, 'genres': ['Science Fiction', 'Action', 'Thriller'], 'rating': 8.8}\n",
      "updated movie list info by updating existing element is: {'title': 'Inception', 'director': 'Christopher Nolan', 'release_year': 2010, 'genres': ['Science Fiction', 'Action', 'Thriller'], 'rating': 1}\n",
      "updated movie list info by adding new elements is: {'title': 'Inception', 'director': 'Christopher Nolan', 'release_year': 2010, 'genres': ['Science Fiction', 'Action', 'Thriller'], 'rating': 1, 'actor': 'Leonardo DiCaprio'}\n"
     ]
    }
   ],
   "source": [
    "# dict of movie info\n",
    "\n",
    "movie_info = {\n",
    "    \"title\": \"Inception\",\n",
    "    \"director\": \"Christopher Nolan\",\n",
    "    \"release_year\": 2010,\n",
    "    \"genres\": [\"Science Fiction\", \"Action\", \"Thriller\"],\n",
    "    \"rating\": 8.8\n",
    "}\n",
    "\n",
    "print('oringinal info : ', movie_info)\n",
    "\n",
    "# update the existing key : value \n",
    "movie_actor = {\"rating\": 1}\n",
    "movie_info.update(movie_actor)\n",
    "\n",
    "print('updated movie list info by updating existing element is:', movie_info)\n",
    "\n",
    "# add the new key : value i.e. actor : Leonardo DiCaprio\n",
    "movie_actor = {\"actor\": \"Leonardo DiCaprio\"}\n",
    "movie_info.update(movie_actor)\n",
    "\n",
    "print('updated movie list info by adding new elements is:', movie_info)\n",
    "\n"
   ]
  },
  {
   "cell_type": "markdown",
   "id": "96a53db8-a3b4-4d95-8da2-5b5c1c09d296",
   "metadata": {},
   "source": [
    "### update() When Tuple is Passed"
   ]
  },
  {
   "cell_type": "code",
   "execution_count": 217,
   "id": "3fe71990-dd4b-48c6-9647-593fcefa5c1c",
   "metadata": {},
   "outputs": [
    {
     "name": "stdout",
     "output_type": "stream",
     "text": [
      "oringinal info :  {'title': 'Inception', 'director': 'Christopher Nolan', 'release_year': 2010, 'genres': ['Science Fiction', 'Action', 'Thriller'], 'rating': 8.8}\n",
      "new movie list is: {'title': 'Inception', 'director': 'Christopher Nolan', 'release_year': 2010, 'genres': ['Science Fiction', 'Action', 'Thriller'], 'rating': 8.8, 'supporting actor': 'tom hardy', 'collections': '100 mil'}\n"
     ]
    }
   ],
   "source": [
    "movie_info = {\n",
    "    \"title\": \"Inception\",\n",
    "    \"director\": \"Christopher Nolan\",\n",
    "    \"release_year\": 2010,\n",
    "    \"genres\": [\"Science Fiction\", \"Action\", \"Thriller\"],\n",
    "    \"rating\": 8.8\n",
    "}\n",
    "print('oringinal info : ', movie_info)\n",
    "\n",
    "## add new key : value pair\n",
    "\n",
    "movie_info.update([(\"supporting actor\", \"tom hardy\"), (\"collections\", \"100 mil\")])\n",
    "\n",
    "print('new movie list is:',movie_info)"
   ]
  },
  {
   "cell_type": "markdown",
   "id": "709748f8-abf3-4fa1-a292-d15f784a8cba",
   "metadata": {},
   "source": [
    "* Here, we have passed a list of tuples [(\"supporting actor\", \"tom hardy\"), (\"collections\", \"100 mil\")] to the update() function. In this case, the first element of tuple is used as the key and the second element is used as the value."
   ]
  },
  {
   "cell_type": "markdown",
   "id": "ad6a73c3-8441-4bbf-9314-859b1541ce70",
   "metadata": {},
   "source": [
    "## Remove Dictionary Items\n"
   ]
  },
  {
   "cell_type": "markdown",
   "id": "908c313b-1cfd-41ba-9ce6-9e218c0f44ea",
   "metadata": {},
   "source": [
    "## del\n",
    "*  We can use the 'del' statement to remove an element from a dictionary"
   ]
  },
  {
   "cell_type": "code",
   "execution_count": 78,
   "id": "059bccd6-14e5-4527-8019-682e0e190d99",
   "metadata": {},
   "outputs": [
    {
     "name": "stdout",
     "output_type": "stream",
     "text": [
      "orinigal_dict is:  {'team_name': 'SRH', 'No. of sixes': 178, 'star_player': ' Travis Head (AUS)', 'country': 'Australia', 'No. of four': 18}\n",
      "updated_dict is:  {'team_name': 'SRH', 'No. of sixes': 178, 'star_player': ' Travis Head (AUS)', 'country': 'Australia'}\n"
     ]
    }
   ],
   "source": [
    "team_stats = {\n",
    "    \"team_name\": \"SRH\",\n",
    "    \"No. of sixes\": 178,\n",
    "    \"star_player\": \" Travis Head (AUS)\",\n",
    "    \"country\": \"Australia\",\n",
    "    \"No. of four\": 18,\n",
    "}\n",
    "\n",
    "print ('orinigal_dict is: ', team_stats)\n",
    "\n",
    "# delete item having \"No. of four\" key\n",
    "del team_stats[\"No. of four\"]\n",
    "\n",
    "print('updated_dict is: ', team_stats)"
   ]
  },
  {
   "cell_type": "markdown",
   "id": "3e318f74-95e7-48f9-98e8-ebf2aeb5ba58",
   "metadata": {},
   "source": [
    " ## pop() "
   ]
  },
  {
   "cell_type": "markdown",
   "id": "43a8a310-e05e-41bc-8ad6-319b00030fb2",
   "metadata": {},
   "source": [
    "* The pop() method removes and returns an element from a dictionary having the given key.\n",
    "* syntax : value = dictionary.pop(key, default_value)"
   ]
  },
  {
   "cell_type": "markdown",
   "id": "d5801257-475e-4f85-bec3-c393bf76f3e8",
   "metadata": {},
   "source": [
    "#### Parameters\n",
    "##### pop() method takes two parameters:\n",
    "* key - key which is to be searched for removal\n",
    "* default - value which is to be returned when the key is not in the dictionary"
   ]
  },
  {
   "cell_type": "markdown",
   "id": "edfae0b0-1a01-47eb-9108-3b289c388e9c",
   "metadata": {},
   "source": [
    "\n",
    "##### The pop() method returns:\n",
    "\n",
    "* If key is found - removed/popped element from the dictionary\n",
    "* If key is not found - value specified as the second argument (default)\n",
    "* If key is not found and default argument is not specified - KeyError exception is raised"
   ]
  },
  {
   "cell_type": "code",
   "execution_count": 164,
   "id": "a2a3bfb8-5940-4b27-82f5-d120d57d89a2",
   "metadata": {},
   "outputs": [
    {
     "name": "stdout",
     "output_type": "stream",
     "text": [
      "The original dict is {'is_sunny': True, 'is_raining': False, 'is_windy': False, 'is_snowing': True}\n",
      "The popped element is: False\n",
      "The dictionary is: {'is_sunny': True, 'is_raining': False, 'is_snowing': True}\n"
     ]
    }
   ],
   "source": [
    "# Dict of boolean\n",
    "\n",
    "boolean_dict = {\n",
    "    \"is_sunny\": True,\n",
    "    \"is_raining\": False,\n",
    "    \"is_windy\": False,\n",
    "    \"is_snowing\": True\n",
    "}\n",
    "print('The original dict is',boolean_dict)\n",
    "\n",
    "element = boolean_dict.pop(\"is_windy\")\n",
    "\n",
    "# Return value : If key is found - removed/popped element from the dictionary\n",
    "\n",
    "print('The popped element is:', element)\n",
    "print('The dictionary is:', boolean_dict)"
   ]
  },
  {
   "cell_type": "code",
   "execution_count": 174,
   "id": "e3fa2cc0-b4bb-476e-b413-d2abd8c128b8",
   "metadata": {},
   "outputs": [
    {
     "name": "stdout",
     "output_type": "stream",
     "text": [
      "The dictionary is: {'apple': 2, 'orange': 3, 'grapes': 4}\n",
      "The popped element when key is not found and arg is given is: banana\n"
     ]
    },
    {
     "ename": "KeyError",
     "evalue": "'guava'",
     "output_type": "error",
     "traceback": [
      "\u001b[1;31m---------------------------------------------------------------------------\u001b[0m",
      "\u001b[1;31mKeyError\u001b[0m                                  Traceback (most recent call last)",
      "Cell \u001b[1;32mIn[174], line 12\u001b[0m\n\u001b[0;32m      8\u001b[0m \u001b[38;5;28mprint\u001b[39m(\u001b[38;5;124m'\u001b[39m\u001b[38;5;124mThe popped element when key is not found and arg is given is:\u001b[39m\u001b[38;5;124m'\u001b[39m, element)\n\u001b[0;32m     10\u001b[0m \u001b[38;5;66;03m# return value : If key is not found and default argument is not specified - KeyError exception is raised\u001b[39;00m\n\u001b[1;32m---> 12\u001b[0m element \u001b[38;5;241m=\u001b[39m sales\u001b[38;5;241m.\u001b[39mpop(\u001b[38;5;124m'\u001b[39m\u001b[38;5;124mguava\u001b[39m\u001b[38;5;124m'\u001b[39m)\n\u001b[0;32m     13\u001b[0m \u001b[38;5;28mprint\u001b[39m(\u001b[38;5;124m'\u001b[39m\u001b[38;5;124mThe popped element when key is not found and arg is not given is:\u001b[39m\u001b[38;5;124m'\u001b[39m, element)\n",
      "\u001b[1;31mKeyError\u001b[0m: 'guava'"
     ]
    }
   ],
   "source": [
    "# random sales dictionary\n",
    "sales = { 'apple': 2, 'orange': 3, 'grapes': 4 }\n",
    "print('The dictionary is:', sales)\n",
    "\n",
    "# return value : If key is not found - value specified as the second argument (default)\n",
    "\n",
    "element = sales.pop('guava', 'banana')\n",
    "print('The popped element when key is not found and arg is given is:', element)\n",
    "\n",
    "# return value : If key is not found and default argument is not specified - KeyError exception is raised\n",
    "\n",
    "element = sales.pop('guava')\n",
    "print('The popped element when key is not found and arg is not given is:', element) \n",
    " ### output : error\n"
   ]
  },
  {
   "cell_type": "markdown",
   "id": "1f50bf91-80b5-4122-9036-71c58a43ee3a",
   "metadata": {},
   "source": [
    "## clear()"
   ]
  },
  {
   "cell_type": "markdown",
   "id": "5bfed4c0-822b-4491-84c3-a105d942fd10",
   "metadata": {},
   "source": [
    "* If we need to remove all items from a dictionary at once, we can use the **clear()** method.If we need to remove all items from a dictionary at once, we can use the clear() method.\n",
    "* syntax : dictionary.clear()\n"
   ]
  },
  {
   "cell_type": "markdown",
   "id": "02b0d95f-ae09-4176-ae06-5fa3c483692d",
   "metadata": {},
   "source": [
    "#### Parameters\n",
    "* The clear() method doesn't take any parameters.\n",
    "\n",
    "#### Returns\n",
    "* The clear() method doesn't return any value."
   ]
  },
  {
   "cell_type": "code",
   "execution_count": 91,
   "id": "96f87169-a404-45ed-8587-343ec3e414ca",
   "metadata": {},
   "outputs": [
    {
     "name": "stdout",
     "output_type": "stream",
     "text": [
      "This is dict of square of natural numbers: {1: 1, 2: 4, 3: 9, 4: 16, 5: 25}\n",
      "This is empty dict of square of natural numbers: {}\n"
     ]
    }
   ],
   "source": [
    "squares = {\n",
    "    1: 1,\n",
    "    2: 4,\n",
    "    3: 9,\n",
    "    4: 16,\n",
    "    5: 25\n",
    "}\n",
    "print('This is dict of square of natural numbers:', squares)\n",
    "\n",
    "# clear the dictionary\n",
    "squares.clear()\n",
    "\n",
    "print('This is empty dict of square of natural numbers:', squares)"
   ]
  },
  {
   "cell_type": "markdown",
   "id": "e24a35d5-75f5-40bf-96ca-c5c0c659165d",
   "metadata": {},
   "source": [
    "## copy()\n",
    "* returns a copy (shallow copy) of the dictionary.\n",
    "* syntax : dict.copy()\n",
    "* arg : no arg\n",
    "* This method returns a shallow copy of the dictionary. It doesn't modify the original dictionary.\r",
    "\r\n"
   ]
  },
  {
   "cell_type": "code",
   "execution_count": 227,
   "id": "6ed19122-c437-45fc-914c-ebd244aab539",
   "metadata": {},
   "outputs": [
    {
     "name": "stdout",
     "output_type": "stream",
     "text": [
      "This is original dict : {'Malguddi Days': ['R.K.Narayan'], 'My Kemph': ['Adolf Hitler'], 'Untouchables': ['Dr.B.R.Ambedkar'], 'Hind Swaraj': ['Mahatma Gandhi']}\n",
      "This is copy of books_author dict : {'Malguddi Days': ['R.K.Narayan'], 'My Kemph': ['Adolf Hitler'], 'Untouchables': ['Dr.B.R.Ambedkar'], 'Hind Swaraj': ['Mahatma Gandhi']}\n"
     ]
    }
   ],
   "source": [
    "# dict of books and their authors\n",
    "books_authors = {\n",
    "    \"Malguddi Days\": [\"R.K.Narayan\"],\n",
    "    \"My Kemph\": [\"Adolf Hitler\"],\n",
    "    \"Untouchables\": [\"Dr.B.R.Ambedkar\"],\n",
    "    \"Hind Swaraj\": [\"Mahatma Gandhi\"]\n",
    "}\n",
    "print (f\"This is original dict : {books_authors}\")\n",
    "\n",
    "# copy of books_authors dict\n",
    "copy_book = books_authors.copy()\n",
    "print (f\"This is copy of books_author dict : {copy_book}\")\n"
   ]
  },
  {
   "cell_type": "markdown",
   "id": "14335272-30fe-4a71-a1f3-a1a738d0b9f7",
   "metadata": {},
   "source": [
    "###  Dictionary copy() Method Vs = Operator\n",
    "* When the copy() method is used, a new dictionary is created which is filled with a copy of the references from the original dictionary\n",
    "* \n",
    "When the = operator is used, a new reference to the original dictionary is created."
   ]
  },
  {
   "cell_type": "code",
   "execution_count": 236,
   "id": "8d87b635-c98a-48b5-8ba6-caa3a935b82e",
   "metadata": {},
   "outputs": [
    {
     "name": "stdout",
     "output_type": "stream",
     "text": [
      "Original Menu of retaurant is : {'name': 'Pizza', 'price': 150, 'ingredients': ['Tomato', 'Mozzarella cheeze', 'Basil', 'Olive Oil'], 'vegetarian': True, 'calories': 1900}\n",
      "Copy of menu is : {'name': 'Pizza', 'price': 150, 'ingredients': ['Tomato', 'Mozzarella cheeze', 'Basil', 'Olive Oil'], 'vegetarian': True, 'calories': 1900}\n",
      "updated Original Menu of retaurant is : {}\n",
      "updated Copy of menu is : {}\n"
     ]
    }
   ],
   "source": [
    "# dict of food menu in a restaurant\n",
    "menu_item = {\n",
    "    \"name\": \"Pizza\",\n",
    "    \"price\": 150,\n",
    "    \"ingredients\": [\"Tomato\", \"Mozzarella cheeze\", \"Basil\", \"Olive Oil\"],\n",
    "    \"vegetarian\": True,\n",
    "    \"calories\": 1900\n",
    "}\n",
    "print (f\"Original Menu of retaurant is : {menu_item}\")\n",
    "\n",
    "# copy dict menu_item using \"=\" operator\n",
    "new_menu = menu_item\n",
    "print(f\"Copy of menu is : {new_menu}\")\n",
    "\n",
    "# clear all element from copy i.e. \"new_menu\"\n",
    "new_menu.clear()\n",
    "print (f\"updated Original Menu of retaurant is : {menu_item}\")\n",
    "print(f\"updated Copy of menu is : {new_menu}\")"
   ]
  },
  {
   "cell_type": "markdown",
   "id": "fc5b1b5a-3b86-40af-b53f-9a92c91b29a4",
   "metadata": {},
   "source": [
    "### Using copy() to Copy Dictionaries\r\n"
   ]
  },
  {
   "cell_type": "code",
   "execution_count": 241,
   "id": "f4933f0a-75b5-482f-a3d1-d3aa1204ef12",
   "metadata": {},
   "outputs": [
    {
     "name": "stdout",
     "output_type": "stream",
     "text": [
      "Original Menu of retaurant is : {'name': 'Pizza', 'price': 150, 'ingredients': ['Tomato', 'Mozzarella cheeze', 'Basil', 'Olive Oil'], 'vegetarian': True, 'calories': 1900}\n",
      "Copy of menu is : {'name': 'Pizza', 'price': 150, 'ingredients': ['Tomato', 'Mozzarella cheeze', 'Basil', 'Olive Oil'], 'vegetarian': True, 'calories': 1900}\n",
      "updated Original Menu of retaurant is : {'name': 'Pizza', 'price': 150, 'ingredients': ['Tomato', 'Mozzarella cheeze', 'Basil', 'Olive Oil'], 'vegetarian': True, 'calories': 1900}\n",
      "updated Copy of menu is : {}\n"
     ]
    }
   ],
   "source": [
    "# dict of food menu in a restaurant\n",
    "menu_item = {\n",
    "    \"name\": \"Pizza\",\n",
    "    \"price\": 150,\n",
    "    \"ingredients\": [\"Tomato\", \"Mozzarella cheeze\", \"Basil\", \"Olive Oil\"],\n",
    "    \"vegetarian\": True,\n",
    "    \"calories\": 1900\n",
    "}\n",
    "print (f\"Original Menu of retaurant is : {menu_item}\")\n",
    "\n",
    "# copy dict menu_item using copy()\n",
    "new_menu = menu_item.copy()\n",
    "print(f\"Copy of menu is : {new_menu}\")\n",
    "\n",
    "# clear all element from copy i.e. \"new_menu\"\n",
    "new_menu.clear()\n",
    "print (f\"updated Original Menu of retaurant is : {menu_item}\")\n",
    "print(f\"updated Copy of menu is : {new_menu}\")\n",
    "\n",
    "## when the new dictionary is cleared, the original dictionary remains unchanged."
   ]
  },
  {
   "cell_type": "markdown",
   "id": "1788ee16-4951-46d4-a38f-4e1c8a3366b9",
   "metadata": {},
   "source": [
    "## keys()\n",
    "* The keys() method extracts the keys of the dictionary and returns the list of keys as a view object.\n",
    "* syntax : dict.keys()\n",
    "* Update in dictionary updates the view object\n",
    "#### Parameters\n",
    "* The keys() method doesn't take any parameters.\n",
    "#### The keys() method returns\n",
    "* a view object that displays the list of all the keys\n",
    "\n",
    "* For example, if the method returns dict_keys([1, 2, 3)],\n",
    "\n",
    " **** dict_keys() is the view object and [1, 2, 3] is the list of keys"
   ]
  },
  {
   "cell_type": "code",
   "execution_count": 250,
   "id": "98b7be48-0584-4f7b-800a-0dd7355188a0",
   "metadata": {},
   "outputs": [
    {
     "name": "stdout",
     "output_type": "stream",
     "text": [
      "Original fruits dict is :  {'apple': 'red', 'banana': 'yellow', 'grape': 'purple', 'orange': 'orange'}\n",
      "keys of fruits dict are :  dict_keys(['apple', 'banana', 'grape', 'orange'])\n"
     ]
    }
   ],
   "source": [
    "# dict of fruits and their colors\n",
    "fruits = {\n",
    "    \"apple\": \"red\",\n",
    "    \"banana\": \"yellow\",\n",
    "    \"grape\": \"purple\",\n",
    "    \"orange\": \"orange\"\n",
    "}\n",
    "print('Original fruits dict is : ', fruits)\n",
    "\n",
    "keys_of_fruits = fruits.keys()\n",
    "\n",
    "print('keys of fruits dict are : ', keys_of_fruits)\n"
   ]
  },
  {
   "cell_type": "markdown",
   "id": "5039c98a-43f7-4f40-9b77-0bb92bb25bf0",
   "metadata": {},
   "source": [
    "## values()\n",
    "* The values() method returns a view object that displays a list of all the values in the dictionary.\n",
    "* syntax : dictionary.values()\n",
    "* values() method doesn't take any parameters.\n",
    "* values() method returns a view object that displays a list of all values in a given dictionary.\n",
    "* If the dict is updated at any time, the changes are reflected on the view object itself\n",
    "\r\n"
   ]
  },
  {
   "cell_type": "code",
   "execution_count": 261,
   "id": "e7a1bf04-ab4c-43dc-b3b0-d6478ef22e0b",
   "metadata": {},
   "outputs": [
    {
     "name": "stdout",
     "output_type": "stream",
     "text": [
      "This is dict  {'Soccer': ['Lionel Messi', 'Cristiano Ronaldo'], 'Basketball': ['LeBron James', 'Michael Jordan', 'Kobe Bryant', 'Stephen Curry']}\n",
      "values of sports players are  dict_values([['Lionel Messi', 'Cristiano Ronaldo'], ['LeBron James', 'Michael Jordan', 'Kobe Bryant', 'Stephen Curry']])\n"
     ]
    }
   ],
   "source": [
    "# dict of sports and related famous players\n",
    "sports_players = {\n",
    "    \"Soccer\": [\"Lionel Messi\", \"Cristiano Ronaldo\"],\n",
    "    \"Basketball\": [\"LeBron James\", \"Michael Jordan\", \"Kobe Bryant\", \"Stephen Curry\"], \n",
    "}\n",
    "\n",
    "print('This is dict ',sports_players)\n",
    "\n",
    "values_of_sports = sports_players.values()\n",
    "\n",
    "print('values of sports players are ',values_of_sports)"
   ]
  },
  {
   "cell_type": "raw",
   "id": "5bc1a572-dc94-44d6-a8ff-dc7c7f5aef19",
   "metadata": {},
   "source": []
  },
  {
   "cell_type": "raw",
   "id": "43e3f0f9-aeee-447a-8cc3-e0539bf88be7",
   "metadata": {},
   "source": []
  },
  {
   "cell_type": "raw",
   "id": "0daf19f2-0eb4-4415-bc27-4d834c823590",
   "metadata": {},
   "source": []
  },
  {
   "cell_type": "markdown",
   "id": "1dd0e137-78b4-41c6-a0bb-b1d72675b29a",
   "metadata": {},
   "source": [
    "# B. If else with input code "
   ]
  },
  {
   "cell_type": "code",
   "execution_count": 271,
   "id": "afddfd64-af94-468f-a337-4b17890ebad4",
   "metadata": {},
   "outputs": [
    {
     "name": "stdin",
     "output_type": "stream",
     "text": [
      "Enter the number: 0\n"
     ]
    },
    {
     "name": "stdout",
     "output_type": "stream",
     "text": [
      "The number is ZERO\n"
     ]
    }
   ],
   "source": [
    "# check if num is +ve or -ve\n",
    "\n",
    "### user input\n",
    "number = int(input(\"Enter the number:\"))\n",
    "\n",
    "### check is number is +ve -ve or zero\n",
    "if number >  0:\n",
    "    print(\"positive number\")\n",
    "elif number < 0:\n",
    "    print(\"negative number\")\n",
    "else:\n",
    "    print(\"The number is ZERO\")"
   ]
  },
  {
   "cell_type": "markdown",
   "id": "178dafc8-9f0a-4dc6-9da6-d63dda3a66ae",
   "metadata": {},
   "source": [
    "#### Explaination of above code\n",
    "* input() is used to get user input\n",
    "  * by default input() returns a string value therefore \"int(input())\" is used to convert the input into 'int'\n",
    "* The if statement checks if the number is greater than 0 (positive).\n",
    "* elif (else if) checks if the number is less than 0 (negative).\n",
    "* else covers the case where the number is neither positive nor negative (zero)."
   ]
  },
  {
   "cell_type": "code",
   "execution_count": 286,
   "id": "6be477ae-78ef-4361-9af2-9016cb8492d8",
   "metadata": {},
   "outputs": [
    {
     "name": "stdin",
     "output_type": "stream",
     "text": [
      "Enter current time range between (0-23) 26\n"
     ]
    },
    {
     "name": "stdout",
     "output_type": "stream",
     "text": [
      "Time is out of range\n"
     ]
    }
   ],
   "source": [
    "# Greetings based on time of the day\n",
    "\n",
    "### user input\n",
    "time = int(input(\"Enter current time range between (0-23)\"))\n",
    "\n",
    "### Greet the user based on the time of day\n",
    "if 0 <= time < 12:\n",
    "    print(\"Good morning!\")\n",
    "elif 12 <= time < 18:\n",
    "    print(\"Good afternoon!\")\n",
    "elif 18 <= time < 23:\n",
    "    print(\"Good evening!\")\n",
    "else:\n",
    "    print(\"Time is out of range\")"
   ]
  },
  {
   "cell_type": "markdown",
   "id": "c7fd3aba-9e01-428b-81b3-87a430bdd39b",
   "metadata": {},
   "source": [
    "    * you cannot use multiple values directly with a == operator. so, use the \"in\" keyword to check if the input is in a list of acceptable values"
   ]
  },
  {
   "cell_type": "code",
   "execution_count": 292,
   "id": "70b7284c-d238-4627-adfc-b10be7ddb944",
   "metadata": {},
   "outputs": [
    {
     "name": "stdin",
     "output_type": "stream",
     "text": [
      "Enter first three alphabets of the month of year wgfa\n"
     ]
    },
    {
     "name": "stdout",
     "output_type": "stream",
     "text": [
      "Enter proper month\n"
     ]
    }
   ],
   "source": [
    "# month of year \n",
    "\n",
    "### user input\n",
    "year = input(\"Enter first three alphabets of the month of year\")\n",
    "\n",
    "### reponse based on input\n",
    "if year in ['jan' , 'Feb',  'mar']:\n",
    "    print('Q1 : This is first quater')\n",
    "elif year in ['apr','may' , 'jun']:\n",
    "    print('Q2 : This is second quater')\n",
    "elif year in ['jul','aug','sep']:\n",
    "    print('Q3 : This is third quater')\n",
    "elif year in ['oct','nov','dec']:\n",
    "    print('Q4 : This is fourth quater')\n",
    "else:\n",
    "    print('Enter proper month')\n"
   ]
  },
  {
   "cell_type": "code",
   "execution_count": 310,
   "id": "f6db059e-cab6-4383-b98e-de327204cc86",
   "metadata": {},
   "outputs": [
    {
     "name": "stdin",
     "output_type": "stream",
     "text": [
      "Enter the current temperature in degree Celsius:  -98\n"
     ]
    },
    {
     "name": "stdout",
     "output_type": "stream",
     "text": [
      "It's cold outside!\n"
     ]
    }
   ],
   "source": [
    "# temperature of surrounding\n",
    "# user input\n",
    "temperature = float(input(\"Enter the current temperature in degree Celsius: \"))\n",
    "\n",
    "# Respond based on the temperature\n",
    "if temperature > 35.0:\n",
    "    print(\"It's hot outside!\")\n",
    "elif temperature >= 20.0:\n",
    "    print(\"The weather is nice.\")\n",
    "elif temperature >= 10.0:\n",
    "    print(\"It's a bit chilly.\")\n",
    "else:\n",
    "    print(\"It's cold outside!\")\n"
   ]
  },
  {
   "cell_type": "code",
   "execution_count": 316,
   "id": "24acab79-2398-4da5-abab-a800151b371a",
   "metadata": {},
   "outputs": [
    {
     "name": "stdin",
     "output_type": "stream",
     "text": [
      "Enter the day of the week:  ds\n"
     ]
    },
    {
     "name": "stdout",
     "output_type": "stream",
     "text": [
      "Please Enter Proper Day.\n"
     ]
    }
   ],
   "source": [
    "# user input\n",
    "\n",
    "day = input(\"Enter the day of the week: \").lower()\n",
    "# The input is taken as a string, and lower() is used to handle case sensitivity.\n",
    "\n",
    "# Respond based on the day of the week\n",
    "if day in [\"monday\",\"tuesday\",\"wednesday\",\"thursday\"]:\n",
    "    print(\"Start of the work week!\")\n",
    "elif day == \"friday\":\n",
    "    print(\"Almost the weekend!\")\n",
    "elif day == \"saturday\" or day == \"sunday\":\n",
    "    print(\"Enjoy your weekend!\")\n",
    "else:\n",
    "    print(\"Please Enter Proper Day.\")\n"
   ]
  },
  {
   "cell_type": "code",
   "execution_count": 324,
   "id": "cc1027ff-9b39-4f02-a2a5-4b613e0ba0c8",
   "metadata": {},
   "outputs": [
    {
     "name": "stdin",
     "output_type": "stream",
     "text": [
      "Enter a number to check:  56\n"
     ]
    },
    {
     "name": "stdout",
     "output_type": "stream",
     "text": [
      "56 is not in the list.\n"
     ]
    }
   ],
   "source": [
    "# list of numbers\n",
    "numbers = [10, 20, 30, 40, 50]\n",
    "\n",
    "# user input\n",
    "user_input = int(input(\"Enter a number to check: \"))\n",
    "\n",
    " # Check if the number is in the list\n",
    "if number in numbers:\n",
    "    print(f\"{user_input} is in the list!\")\n",
    "else:\n",
    "    print(f\"{user_input} is not in the list.\")\n"
   ]
  },
  {
   "cell_type": "code",
   "execution_count": 332,
   "id": "a20f5fa8-969e-4f54-872c-b99379bd77cc",
   "metadata": {},
   "outputs": [
    {
     "name": "stdin",
     "output_type": "stream",
     "text": [
      "Enter the name of a fruit:  apple\n"
     ]
    },
    {
     "name": "stdout",
     "output_type": "stream",
     "text": [
      "Apple is in the list of fruits!\n"
     ]
    }
   ],
   "source": [
    "# list of fruits\n",
    "fruits = ['apple', 'banana', 'cherry', 'date', 'fig', 'grape']\n",
    "\n",
    "# user input\n",
    "user_input = input(\"Enter the name of a fruit: \").lower()\n",
    "\n",
    "# Check if the input is in the list\n",
    "if user_input in fruits:\n",
    "    print(f\"{user_input.capitalize()} is in the list of fruits!\")\n",
    "else:\n",
    "    print(f\"{user_input.upper()} is not in the list of fruits.\")\n"
   ]
  },
  {
   "cell_type": "code",
   "execution_count": 338,
   "id": "808b04cb-434c-43d4-8d51-7f74720f842b",
   "metadata": {},
   "outputs": [
    {
     "name": "stdout",
     "output_type": "stream",
     "text": [
      "Please select an option from the menu:\n",
      "1: Tom\n",
      "2: Hugh\n",
      "3: Jackie\n",
      "4: Salman\n"
     ]
    },
    {
     "name": "stdin",
     "output_type": "stream",
     "text": [
      "Enter the number of your choice:  1\n"
     ]
    },
    {
     "name": "stdout",
     "output_type": "stream",
     "text": [
      "Your favourite actor is Tom\n"
     ]
    }
   ],
   "source": [
    "# dictionary with options and their correnponding favourite actors\n",
    "\n",
    "dict_options = {\n",
    "    '1': \"Your favourite actor is Tom\",\n",
    "    '2': \"Your favourite actor is Hugh\",\n",
    "    '3': \"Your favourite actor is Jackie\",\n",
    "    '4': \"Your favourite actor is Salman\"\n",
    "}\n",
    "\n",
    "# Prompt the user to select an option\n",
    "\n",
    "print(\"Please select an option from the menu:\")\n",
    "print(\"1: Tom\")\n",
    "print(\"2: Hugh\")\n",
    "print(\"3: Jackie\")\n",
    "print(\"4: Salman\")\n",
    "\n",
    "# user input\n",
    "user_choice = input(\"Enter the number of your choice: \")\n",
    "\n",
    "# Response based on the input\n",
    "if user_choice in dict_options:\n",
    "    print(dict_options[user_choice])\n",
    "else:\n",
    "    print(\"Everyone's favourite actor is Irfan Khan\")\n"
   ]
  },
  {
   "cell_type": "code",
   "execution_count": 371,
   "id": "3ad6008d-45f5-4002-a607-f865e42aa12e",
   "metadata": {},
   "outputs": [
    {
     "name": "stdout",
     "output_type": "stream",
     "text": [
      "Check the name of the student dict_keys(['Ram', 'Karan', 'Vishal', 'Saurabh', 'Hritik', 'Kiran', 'Suraj'])\n"
     ]
    },
    {
     "name": "stdin",
     "output_type": "stream",
     "text": [
      "Enter the name of the student:  ram\n"
     ]
    },
    {
     "name": "stdout",
     "output_type": "stream",
     "text": [
      "CGPA obtained is A\n"
     ]
    }
   ],
   "source": [
    "# students marks dictionary\n",
    "\n",
    "student_marks = {\n",
    "    \"Ram\": 85,\n",
    "    \"Karan\": 90,\n",
    "    \"Vishal\": 58,\n",
    "    \"Saurabh\": 92,\n",
    "    \"Hritik\": 98,\n",
    "    \"Kiran\": 29,\n",
    "    \"Suraj\": 26\n",
    "}\n",
    "print (\"Check the name of the student\", student_marks.keys())\n",
    "# Get the student's name as input\n",
    "student_name = input(\"Enter the name of the student: \").capitalize()\n",
    "\n",
    "# Check if the student exists in the dictionary\n",
    "\n",
    "if student_name in student_marks:\n",
    "    marks = student_marks[student_name]\n",
    "\n",
    "# cgpa based on marks obtained\n",
    "    if marks >= 85:\n",
    "        print('CGPA obtained is A')\n",
    "    elif marks >= 65:\n",
    "        print('CGPA obtained is B')\n",
    "    elif marks >= 50:\n",
    "        print('CGPA obtained is C')\n",
    "    elif marks >= 38:\n",
    "        print('CGPA obtained is C')\n",
    "    else: \n",
    "        print('CGPA obtained is F')\n",
    "else:\n",
    "    print(\"Student not found\")\n",
    "    "
   ]
  },
  {
   "cell_type": "code",
   "execution_count": null,
   "id": "6fef3834-0287-4fd0-b255-77f30cba024f",
   "metadata": {},
   "outputs": [],
   "source": []
  }
 ],
 "metadata": {
  "kernelspec": {
   "display_name": "Python 3 (ipykernel)",
   "language": "python",
   "name": "python3"
  },
  "language_info": {
   "codemirror_mode": {
    "name": "ipython",
    "version": 3
   },
   "file_extension": ".py",
   "mimetype": "text/x-python",
   "name": "python",
   "nbconvert_exporter": "python",
   "pygments_lexer": "ipython3",
   "version": "3.12.4"
  }
 },
 "nbformat": 4,
 "nbformat_minor": 5
}
