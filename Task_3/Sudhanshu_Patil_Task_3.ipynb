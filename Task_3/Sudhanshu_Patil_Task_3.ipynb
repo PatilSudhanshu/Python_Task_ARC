{
 "cells": [
  {
   "cell_type": "markdown",
   "id": "87ca19c5-1146-4b43-9728-c7fc2e1e3b29",
   "metadata": {},
   "source": [
    "# Task_3\n",
    "* give 20 list of different data types\n",
    "* give 15 unique methods example of list and explain it\n",
    "* give documentation for the same in jupyter (i.e.document the code)\n",
    "\n",
    "### tuple task\n",
    "* 8 example of tuples\n",
    "* give documentation for the same in jupyter (i.e.document the code)"
   ]
  },
  {
   "cell_type": "raw",
   "id": "94309342-6819-41d5-b9f1-db70e9d50ebb",
   "metadata": {},
   "source": []
  },
  {
   "cell_type": "raw",
   "id": "c668e661-cbfd-4a1f-a757-749466a68f4f",
   "metadata": {},
   "source": []
  },
  {
   "cell_type": "markdown",
   "id": "31dc33ba-62db-4700-a450-e42f56192c09",
   "metadata": {},
   "source": [
    "# List\n",
    "* We create a list by placing elements inside square brackets [], separated by commas."
   ]
  },
  {
   "cell_type": "code",
   "execution_count": 3,
   "id": "f4dd67db-f79a-41ed-84c7-171c3c9e8764",
   "metadata": {},
   "outputs": [],
   "source": [
    "age = [12,65,25,15,5,45]"
   ]
  },
  {
   "cell_type": "code",
   "execution_count": 4,
   "id": "c6cd68dd-8624-4490-b182-694a0c9e5cdc",
   "metadata": {},
   "outputs": [
    {
     "data": {
      "text/plain": [
       "[12, 65, 25, 15, 5, 45]"
      ]
     },
     "execution_count": 4,
     "metadata": {},
     "output_type": "execute_result"
    }
   ],
   "source": [
    "age"
   ]
  },
  {
   "cell_type": "markdown",
   "id": "9e0dad46-3e06-4ac1-8ef6-2167eba873c5",
   "metadata": {},
   "source": [
    "## List Characteristics\n",
    "#### Lists are:\n",
    "\n",
    "* Ordered - They maintain the order of elements.\n",
    "* Mutable - Items can be changed after creation.\n",
    "* Allow duplicates - They can contain duplicate values.\n",
    "\n",
    "* We can access element of list with number associated with position of element called as index.\n",
    "* First element starts with zero, index of second item is 1 and so on."
   ]
  },
  {
   "cell_type": "code",
   "execution_count": 6,
   "id": "2c8bde8c-ec96-478a-805a-e7dbc05f267a",
   "metadata": {},
   "outputs": [],
   "source": [
    "l1 = ['maths' , 'science' , '100']"
   ]
  },
  {
   "cell_type": "markdown",
   "id": "065c88d3-42c6-4b16-aac0-082415015daf",
   "metadata": {},
   "source": [
    "### indexing"
   ]
  },
  {
   "cell_type": "code",
   "execution_count": 8,
   "id": "d9088013-226e-4936-abae-74f44092ec01",
   "metadata": {},
   "outputs": [
    {
     "name": "stdout",
     "output_type": "stream",
     "text": [
      "maths\n"
     ]
    }
   ],
   "source": [
    "# Access first element of list l1\n",
    "\n",
    "print (l1[0])  ## output : maths"
   ]
  },
  {
   "cell_type": "code",
   "execution_count": 9,
   "id": "d8a883b4-917f-4f20-acbc-2ba3a4619907",
   "metadata": {},
   "outputs": [
    {
     "name": "stdout",
     "output_type": "stream",
     "text": [
      "100\n"
     ]
    }
   ],
   "source": [
    "# Access last element of list l1\n",
    "\n",
    "print (l1[2])  ## output : 100"
   ]
  },
  {
   "cell_type": "markdown",
   "id": "11df68bb-3775-47b4-8ea2-70b0576db7dd",
   "metadata": {},
   "source": [
    "#### negative indexing\n",
    "* python supports negative indexing i.e. index of last element is -1 , index of second last element is -2 and so on."
   ]
  },
  {
   "cell_type": "code",
   "execution_count": 24,
   "id": "b1cec21f-6d74-40ee-9e22-3a494a2e127d",
   "metadata": {},
   "outputs": [],
   "source": [
    "l2 = [65 , \"Hello World\" , \"Nagpur\" , \"Salt\" , 2.5]"
   ]
  },
  {
   "cell_type": "code",
   "execution_count": 26,
   "id": "6967f884-54aa-4f15-8a51-025b352d304c",
   "metadata": {},
   "outputs": [
    {
     "data": {
      "text/plain": [
       "[65, 'Hello World', 'Nagpur', 'Salt', 2.5]"
      ]
     },
     "execution_count": 26,
     "metadata": {},
     "output_type": "execute_result"
    }
   ],
   "source": [
    "l2"
   ]
  },
  {
   "cell_type": "code",
   "execution_count": 28,
   "id": "e9630c77-21ff-427a-ad1d-bd701f7c95ed",
   "metadata": {},
   "outputs": [
    {
     "name": "stdout",
     "output_type": "stream",
     "text": [
      "100\n"
     ]
    }
   ],
   "source": [
    "# Access last element of list l2\n",
    "\n",
    "print (l1[-1])  ## output : 2.5"
   ]
  },
  {
   "cell_type": "markdown",
   "id": "3775dc4d-a455-442e-bab7-5d9e1eecc3bf",
   "metadata": {},
   "source": [
    "#### Slicing of a List in Python\n",
    "* In Python, it is possible to access a section of items from the list using the slicing operator"
   ]
  },
  {
   "cell_type": "code",
   "execution_count": 30,
   "id": "0cf1caa0-490a-48b9-b221-2c5f594ae7d9",
   "metadata": {},
   "outputs": [],
   "source": [
    "l3 = ['a' , 'z', 'b' , 'y' , 'c' , 'x' , 'd' , 'w', 'e' , 'v']"
   ]
  },
  {
   "cell_type": "code",
   "execution_count": 34,
   "id": "9cd75186-a5c3-4826-986a-82eac256499b",
   "metadata": {},
   "outputs": [
    {
     "data": {
      "text/plain": [
       "['x', 'd', 'w', 'e', 'v']"
      ]
     },
     "execution_count": 34,
     "metadata": {},
     "output_type": "execute_result"
    }
   ],
   "source": [
    "# access elements from index 5 - 9\n",
    "\n",
    "l3 [5:10]    ## output [x,d,w,e,v]"
   ]
  },
  {
   "cell_type": "code",
   "execution_count": 36,
   "id": "e1034946-67fe-4481-8b04-1a43ed0a124c",
   "metadata": {},
   "outputs": [
    {
     "data": {
      "text/plain": [
       "['d', 'w', 'e', 'v']"
      ]
     },
     "execution_count": 36,
     "metadata": {},
     "output_type": "execute_result"
    }
   ],
   "source": [
    "# access elements from index 6 - last\n",
    "\n",
    "l3 [6:]           ## output [d,w,e,v]"
   ]
  },
  {
   "cell_type": "code",
   "execution_count": 40,
   "id": "90848363-fed8-427c-b5e4-402d906850e6",
   "metadata": {},
   "outputs": [
    {
     "data": {
      "text/plain": [
       "['a', 'z', 'b', 'y', 'c', 'x', 'd']"
      ]
     },
     "execution_count": 40,
     "metadata": {},
     "output_type": "execute_result"
    }
   ],
   "source": [
    "# access elements from index 0 - 6\n",
    "\n",
    "l3 [:7]           ## output [a,z,b,y,c,x,d]"
   ]
  },
  {
   "cell_type": "code",
   "execution_count": 50,
   "id": "89e77cda-1091-4c64-b779-7ee272deced7",
   "metadata": {},
   "outputs": [
    {
     "data": {
      "text/plain": [
       "['a', 'y', 'd', 'v']"
      ]
     },
     "execution_count": 50,
     "metadata": {},
     "output_type": "execute_result"
    }
   ],
   "source": [
    "# access elements from index 0 - last with gap of 2 elements\n",
    "\n",
    "l3[0::3]   ## output [a,y,d,v]"
   ]
  },
  {
   "cell_type": "markdown",
   "id": "e2635ca0-e9df-4c48-9f4a-cc23b71eecc6",
   "metadata": {},
   "source": [
    "# List Methods\n",
    "* Python List Methods are the built-in methods in lists used to perform operations on Python lists/arrays.\n",
    "* https://www.geeksforgeeks.org/list-methods-python/\n",
    "* https://www.programiz.com/python-programming/list"
   ]
  },
  {
   "cell_type": "markdown",
   "id": "28a8fee0-307e-4cfb-8680-8890e239d7b7",
   "metadata": {},
   "source": [
    "## Append ()\n",
    "* We use the append() method to add an element to the **end** of a Python list.\n",
    "* It takes only one arg at a time.\n",
    "* list.append(item) , (item can be number, string, list etc.)\n",
    "* The method doesn't return any value"
   ]
  },
  {
   "cell_type": "code",
   "execution_count": 71,
   "id": "63c364c8-9120-4863-87c9-1bddfa6493e5",
   "metadata": {},
   "outputs": [
    {
     "name": "stdout",
     "output_type": "stream",
     "text": [
      "original list: [10, 'J', 18, 'R', 6, 'F']\n",
      "updated list: [10, 'J', 18, 'R', 6, 'F', 'Diamond']\n"
     ]
    }
   ],
   "source": [
    "l4 = [10,'J',18,\"R\",6,\"F\"]\n",
    "print ('original list:',l4)\n",
    "\n",
    "l4.append('Diamond')\n",
    "print ('updated list:', l4)"
   ]
  },
  {
   "cell_type": "markdown",
   "id": "730b7692-33d4-437c-a805-fc28218c71bb",
   "metadata": {},
   "source": [
    "## insert () \n",
    "* Add Elements at the Specified Index\n",
    "* The insert() method adds an element at the specified index.\n",
    "* syntax : list.insert(i, element) , Here, element is inserted to the list at the ith index. All the elements after elem are shifted to the right.\n",
    "* The insert() method takes two parameters:\n",
    "* index - the index where the element needs to be inserted\n",
    "* element - this is the element to be inserted in the list\n",
    "* The insert() method doesn't return anything; returns None. It only updates the current list."
   ]
  },
  {
   "cell_type": "code",
   "execution_count": 95,
   "id": "fb7cb327-60bc-4c5d-9e2d-4175c4f9e87d",
   "metadata": {},
   "outputs": [
    {
     "name": "stdout",
     "output_type": "stream",
     "text": [
      "original list: [[3, 4, 5, 5, 12, 13, 7, 24, 25, 8, 15, 17], ['Golf', ' Badminton', 'Cricket'], []]\n",
      "updated list: [[3, 4, 5, 5, 12, 13, 7, 24, 25, 8, 15, 17], ['Golf', ' Badminton', 'Cricket'], 'China', []]\n"
     ]
    }
   ],
   "source": [
    "# list of list / nested lIST\n",
    "\n",
    "l5 = [[3,4,5,5,12,13,7,24,25,8,15,17],['Golf',' Badminton','Cricket'],[]]\n",
    "print ('original list:',l5)\n",
    "\n",
    "# insert China at index 2\n",
    "#### China will be printed before empty list []\n",
    "\n",
    "l5.insert( 2, 'China')\n",
    "print ('updated list:',l5)"
   ]
  },
  {
   "cell_type": "markdown",
   "id": "da9febd7-675d-45ff-8041-f017bb2f88ca",
   "metadata": {},
   "source": [
    "## extend ()\n",
    "* The extend() method adds all the items of the specified iterable, such as list, tuple, dictionary, or string , to the end of a list.\n",
    "* syntax : list1.extend(iterable) , ** iterable - such as list, tuple, string, or dictionary **\n",
    "* The extend() doesn't return anything; it modifies the original list.\n"
   ]
  },
  {
   "cell_type": "code",
   "execution_count": 88,
   "id": "4fcf0aa1-fe73-4709-8fe1-d0df36498126",
   "metadata": {},
   "outputs": [
    {
     "name": "stdout",
     "output_type": "stream",
     "text": [
      "list of even numbers: [0, 2, 4, 6, 8, 10, 12, 14, 16, 18]\n",
      "list of odd numbers: [1, 3, 5, 7, 9, 11, 13, 15, 17, 19]\n",
      "list of numbers: [0, 2, 4, 6, 8, 10, 12, 14, 16, 18, 1, 3, 5, 7, 9, 11, 13, 15, 17, 19]\n"
     ]
    }
   ],
   "source": [
    "even_numbers = [x for x in range(20)  if x % 2 == 0]\n",
    "print('list of even numbers:',even_numbers)\n",
    "\n",
    "odd_numbers = [x for x in range(20) if x % 2 !=0]\n",
    "print('list of odd numbers:',odd_numbers)\n",
    "\n",
    "## adding elements of odd_number to even_numbers\n",
    "\n",
    "even_numbers.extend(odd_numbers)\n",
    "print('list of numbers:',even_numbers)"
   ]
  },
  {
   "cell_type": "markdown",
   "id": "5ee07c9d-f1ca-4b67-b32c-896a819681d4",
   "metadata": {},
   "source": [
    "### Using + to Extend a List"
   ]
  },
  {
   "cell_type": "code",
   "execution_count": 178,
   "id": "124d5213-de1d-4fac-ac7f-c79f40aa5b67",
   "metadata": {},
   "outputs": [
    {
     "name": "stdout",
     "output_type": "stream",
     "text": [
      "[1, 2, 100, 500]\n"
     ]
    }
   ],
   "source": [
    "a = [1,2]\n",
    "b = [100,500]\n",
    "\n",
    "extended_list = a+b\n",
    "print (extended_list)"
   ]
  },
  {
   "cell_type": "markdown",
   "id": "7e4f1e60-6e77-4f76-8633-7a9d5d3bff7e",
   "metadata": {},
   "source": [
    "### Python extend() Vs append()\n",
    "* If you need to add the item itself (rather than its elements), use the append() method."
   ]
  },
  {
   "cell_type": "code",
   "execution_count": 184,
   "id": "bd208403-e68c-4061-94af-a78d95492af3",
   "metadata": {},
   "outputs": [
    {
     "name": "stdout",
     "output_type": "stream",
     "text": [
      "extend_a: [1, 2, 'a', 'd', 'g']\n",
      "append_b: [100, 500, ['a', 'd', 'g']]\n"
     ]
    }
   ],
   "source": [
    "a = [1,2]\n",
    "b = [100,500]\n",
    "c = ['a','d','g']\n",
    "\n",
    "# add items using extends\n",
    "a.extend(c)        # output : [1,2,'a','d','g']\n",
    "print('extend_a:', a)\n",
    "\n",
    "# add items using append\n",
    "b.append(c)        # output : [1,2,['a','d','g']]\n",
    "print('append_b:', b)"
   ]
  },
  {
   "cell_type": "markdown",
   "id": "97e6bf84-673b-4782-98c9-aacde610d98c",
   "metadata": {},
   "source": [
    "## copy ()\n",
    "* The copy() method returns a copy of the specified list.\n",
    "* The copy() method doesn't take any parameters.\n",
    "* The copy() method returns a new list. It doesn't modify the original list.\n",
    "* syntax : new_list = list.copy()\n",
    "* The copy() method doesn't take any parameters.\n",
    "* The copy() method returns a new list. It doesn't modify the original list.\n",
    "  "
   ]
  },
  {
   "cell_type": "code",
   "execution_count": 144,
   "id": "c20ae145-d00c-4dfe-8bb8-491e0948164c",
   "metadata": {},
   "outputs": [
    {
     "name": "stdout",
     "output_type": "stream",
     "text": [
      "list_of_fruits: ['mango', 100, 'apple', 200, 'dragonfruit', 100, 'papaya', 60]\n",
      "copied list: ['mango', 100, 'apple', 200, 'dragonfruit', 100, 'papaya', 60]\n"
     ]
    }
   ],
   "source": [
    "l6 = ['mango',100,'apple',200,'dragonfruit',100,'papaya',60]\n",
    "print('list_of_fruits:' ,l6)\n",
    "\n",
    "c1 = l6.copy()\n",
    "print('copied list:' ,c1)\n"
   ]
  },
  {
   "cell_type": "markdown",
   "id": "79c4a09c-1ebd-4fbd-a89f-2b1deeb0511e",
   "metadata": {},
   "source": [
    "* original list is unchanged when the new list is modified, using the copy() method."
   ]
  },
  {
   "cell_type": "code",
   "execution_count": 146,
   "id": "6b461f6a-d809-43da-a2ec-b67454fbd878",
   "metadata": {},
   "outputs": [
    {
     "name": "stdout",
     "output_type": "stream",
     "text": [
      "list_of_fruits: ['mango', 100, 'apple', 200, 'dragonfruit', 100, 'papaya', 60]\n",
      "copied list: ['mango', 100, 'apple', 200, 'dragonfruit', 100, 'papaya', 60, '1234545677877']\n"
     ]
    }
   ],
   "source": [
    "# add an element to copied list\n",
    "c1.append('1234545677877')\n",
    "\n",
    "print('list_of_fruits:' ,l6)\n",
    "print('copied list:' ,c1)"
   ]
  },
  {
   "cell_type": "markdown",
   "id": "563adf69-b234-4c8f-a3ab-c772c6c779a2",
   "metadata": {},
   "source": [
    "### List copy using = operator"
   ]
  },
  {
   "cell_type": "code",
   "execution_count": 139,
   "id": "bdb2a2f9-b7a9-4d47-8516-6997985f7a11",
   "metadata": {},
   "outputs": [
    {
     "name": "stdout",
     "output_type": "stream",
     "text": [
      "original list: [True, 8.33, [35], 'a', 100]\n",
      "copied list: [True, 8.33, [35], 'a', 100]\n"
     ]
    }
   ],
   "source": [
    "old_list = [True, 8.33, [25+10], 'a', 100]\n",
    "print('original list:',old_list)\n",
    "# copy list using =\n",
    "new_list = old_list\n",
    "\n",
    "print('copied list:',new_list)"
   ]
  },
  {
   "cell_type": "markdown",
   "id": "5f214410-89bf-4685-8737-e25617081c60",
   "metadata": {},
   "source": [
    "\n",
    "* there is one problem with copying lists **using = operator**. If you modify new_list, old_list is also modified. It is because the new list is referencing or pointing to the same old_list object."
   ]
  },
  {
   "cell_type": "code",
   "execution_count": 141,
   "id": "67380ff6-092f-4e06-866c-d9dd14f88f23",
   "metadata": {},
   "outputs": [
    {
     "name": "stdout",
     "output_type": "stream",
     "text": [
      "Old List: [True, 8.33, [35], 'a', 100, '1234545677877']\n",
      "New List: [True, 8.33, [35], 'a', 100, '1234545677877']\n"
     ]
    }
   ],
   "source": [
    "# add an element to copied list\n",
    "new_list.append('1234545677877')\n",
    "\n",
    "print('Old List:', old_list)\n",
    "print('New List:', new_list)"
   ]
  },
  {
   "cell_type": "markdown",
   "id": "12e20596-8a33-4037-b36d-d08d6042f4fa",
   "metadata": {},
   "source": [
    "* copying a list using slicing"
   ]
  },
  {
   "cell_type": "code",
   "execution_count": 151,
   "id": "e80b751b-64cf-4821-81e8-4cd28cc1e06f",
   "metadata": {},
   "outputs": [
    {
     "name": "stdout",
     "output_type": "stream",
     "text": [
      "Old List: ['Moon', 'Mars', 'Mercury', 'Sun']\n",
      "New List: ['Moon', 'Mars', 'Mercury', 'Sun', 'pluto']\n"
     ]
    }
   ],
   "source": [
    "# list\n",
    "l7 = ['Moon', 'Mars', 'Mercury', 'Sun']\n",
    "\n",
    "# copying a list using slicing\n",
    "copy_l7 = l7[:]\n",
    "\n",
    "# Adding an element to the copy list\n",
    "copy_l7.append('pluto')\n",
    "\n",
    "# Printing new and old list\n",
    "print('Old List:', l7)\n",
    "print('New List:', copy_l7)"
   ]
  },
  {
   "cell_type": "markdown",
   "id": "757826d7-f6eb-445d-a47c-35bfd0527cb2",
   "metadata": {},
   "source": [
    "## remove()\n",
    "* The remove() method removes the first matching element (which is passed as an argument) from the list.\n",
    "* syntax : list.remove(element to be removed)\n",
    "* If a list contains duplicate elements,  the remove() method only removes the first matching element.\n",
    "* remove() does'nt returns any item"
   ]
  },
  {
   "cell_type": "code",
   "execution_count": 169,
   "id": "34c6b95c-c943-4dba-b915-57a4c4b90b11",
   "metadata": {},
   "outputs": [
    {
     "name": "stdout",
     "output_type": "stream",
     "text": [
      "Updated List:  [2, 3, 5, 7, 11, 13, 17, 19]\n"
     ]
    }
   ],
   "source": [
    "# create list\n",
    "prime_numbers = [1,2,3,5,7,11,13,17,19]\n",
    "\n",
    "# remove 1 from list as it is not prime\n",
    "prime_numbers.remove(1)\n",
    "\n",
    "# Updated prime_numbers List\n",
    "print('Updated List: ', prime_numbers)\n",
    "\n",
    "                                            # Output: Updated List:  [2,3,5,7,11,13,17,19]"
   ]
  },
  {
   "cell_type": "markdown",
   "id": "e1a0b5f0-bb59-4bd9-addd-ef6debfb1132",
   "metadata": {},
   "source": [
    "## pop()\n",
    "* The list pop() method removes the item at the specified index. The method also returns the removed item.\n",
    "* syntax : list.pop(index)\n",
    "#### pop() parameters\n",
    "* The pop() method takes a single argument (index).\n",
    "* The argument passed to the method is optional.\n",
    "* If not passed, the default index -1 is passed as an argument (index of the last item).\n",
    "* If the index passed to the method is not in range, it throws IndexError: pop index out of range exception.\n",
    "* The pop() method returns the item present at the given index. This item is also removed from the list."
   ]
  },
  {
   "cell_type": "code",
   "execution_count": 205,
   "id": "e4f7102b-8b10-4e62-af7a-2cd4d76357a1",
   "metadata": {},
   "outputs": [
    {
     "name": "stdout",
     "output_type": "stream",
     "text": [
      "Removed Element: 7\n",
      "Updated List: [2, 4, 6, 8]\n"
     ]
    }
   ],
   "source": [
    "even_numbers = [2,4,6,8,7]\n",
    "\n",
    "# remove the element at last index \n",
    "removed_element = even_numbers.pop()   ## If the index passed to the method is not in range, it throws IndexError: pop index out of range exception.\n",
    "\n",
    "print('Removed Element:', removed_element)\n",
    "print('Updated List:', even_numbers)\n",
    "\n",
    "                                                               ## Output: \n",
    "                                                                # Removed Element: 5\n",
    "                                                                # Updated List: [2,4,6,8]"
   ]
  },
  {
   "cell_type": "markdown",
   "id": "b705bb1c-c0e2-487d-aae0-46e5dea21b0a",
   "metadata": {},
   "source": [
    "## index()\n",
    "* The index() method returns the index of the specified element in the list.\n",
    "* syntax : list.index(element, start, end)\n",
    "##### The list index() method can take a maximum of three arguments:\n",
    "* element - the element to be searched\n",
    "* start (optional) - start searching from this index\n",
    "* end (optional) - search the element up to this index\n",
    "* The index() method returns the index of the given element in the list.\n",
    "* If the element is not found, a ValueError exception is raised."
   ]
  },
  {
   "cell_type": "code",
   "execution_count": 210,
   "id": "7e7d6f75-348f-445e-a1c9-806df1eb3615",
   "metadata": {},
   "outputs": [
    {
     "name": "stdout",
     "output_type": "stream",
     "text": [
      "2\n"
     ]
    }
   ],
   "source": [
    "players = [\"Lionel Messi\", \"LeBron James\", \"Serena Williams\", \"Cristiano Ronaldo\", \"Roger Federer\"]\n",
    "\n",
    "## get index of  \"Serena Williams\"\n",
    "indxx = players.index(\"Serena Williams\")\n",
    "\n",
    "print (indxx)                            ## Output: 2"
   ]
  },
  {
   "cell_type": "code",
   "execution_count": 214,
   "id": "5241b2da-8ccb-4526-a346-617de0f036d0",
   "metadata": {},
   "outputs": [
    {
     "name": "stdout",
     "output_type": "stream",
     "text": [
      "The index of e: 3\n",
      "The index of u: 10\n"
     ]
    }
   ],
   "source": [
    "consonents = ['b','c','d','e','g','h','j','l','m','n','u','y','w','q','p','r','t','k']\n",
    "\n",
    "## index of 'e' in consonents\n",
    "indexx = consonents.index('e')\n",
    "print('The index of e:', indexx)\n",
    "\n",
    "## index of 'u' in consonents\n",
    "indexx = consonents.index('u')\n",
    "print('The index of u:', indexx)"
   ]
  },
  {
   "cell_type": "code",
   "execution_count": 220,
   "id": "a9516a6d-59c7-4d8c-87fc-d9d6f8762939",
   "metadata": {},
   "outputs": [
    {
     "name": "stdout",
     "output_type": "stream",
     "text": [
      "The index of u: 10\n"
     ]
    }
   ],
   "source": [
    "# 'u' between 3rd and 5th index is searched\n",
    "index = consonents.index('u', 3, 12)   # Error!\n",
    "print('The index of u:', index)"
   ]
  },
  {
   "cell_type": "markdown",
   "id": "aa790e59-5b3c-41cd-b01e-06374c70b16f",
   "metadata": {},
   "source": [
    "## clear()\n",
    "* The clear() method removes all items from the list.\n",
    "* syntax : list.clear()\n",
    "* The clear() method doesn't take any parameters.\n",
    "* The clear() method only empties the given list. It doesn't return any value."
   ]
  },
  {
   "cell_type": "code",
   "execution_count": 223,
   "id": "64ad58bd-5b6c-48d9-b8e8-b09bd96d8182",
   "metadata": {},
   "outputs": [
    {
     "name": "stdout",
     "output_type": "stream",
     "text": [
      "List: []\n"
     ]
    }
   ],
   "source": [
    "actors = [\"Robert Downey Jr.\", \"Scarlett Johansson\", \"Leonardo DiCaprio\", \"Jennifer Lawrence\", \"Denzel Washington\"]\n",
    "\n",
    "actors.clear()\n",
    "\n",
    "print('List:', actors)\n"
   ]
  },
  {
   "cell_type": "markdown",
   "id": "bf3faf36-e5f5-40b8-b6c6-20ff6b9e45c3",
   "metadata": {},
   "source": [
    "## count()\n",
    "* The count() method returns the number of times the specified element appears in the list.\n",
    "* syntax : list.count(element)\n",
    "* The count() method takes a single argument i.e. **element** - the element to be counted\n",
    "* The count() method returns the number of times element appears in the list.\n"
   ]
  },
  {
   "cell_type": "code",
   "execution_count": 226,
   "id": "5f7de58f-820d-47fe-b1cf-151436ddd451",
   "metadata": {},
   "outputs": [
    {
     "name": "stdout",
     "output_type": "stream",
     "text": [
      "The count of 2010 is: 3\n"
     ]
    }
   ],
   "source": [
    "\n",
    "years = [1990, 2000, 2010, 2020, 2024,1990, 2000,2010,1990, 2000, 2020, 2024,1990, 2000, 2010, 2020, 2024]\n",
    "\n",
    "# count element '2010'\n",
    "countt = years.count(2010)\n",
    "\n",
    "# print count\n",
    "print('The count of 2010 is:', countt)\n"
   ]
  },
  {
   "cell_type": "markdown",
   "id": "cb3b8b87-9170-411f-8032-3810cdd307eb",
   "metadata": {},
   "source": [
    "## sort()\n",
    "* The list's sort() method sorts the elements of a list.\n",
    "* syntax : list.sort(reverse, key)\n",
    "#### The sort() method can take two optional keyword arguments:\n",
    "* reverse - By default False. If True is passed, the list is sorted in descending order.\n",
    "* key - Comparion is based on this function."
   ]
  },
  {
   "cell_type": "code",
   "execution_count": 233,
   "id": "6f3bd45e-6604-43a0-ac2f-c5bb5b9405f9",
   "metadata": {},
   "outputs": [
    {
     "name": "stdout",
     "output_type": "stream",
     "text": [
      "Dictionary order: ['Australia', 'Brazil', 'France', 'Japan', 'USA']\n",
      "Reverse dictionary order: ['USA', 'Japan', 'France', 'Brazil', 'Australia']\n"
     ]
    }
   ],
   "source": [
    "countries = [\"USA\", \"Japan\", \"Brazil\", \"France\", \"Australia\"]\n",
    "\n",
    "# sort in dictionary order\n",
    "countries.sort()\n",
    "print(f\"Dictionary order: {countries}\")\n",
    "\n",
    "# sort in reverse dictionary order\n",
    "countries.sort(reverse = True)\n",
    "print(f\"Reverse dictionary order: {countries}\")"
   ]
  },
  {
   "cell_type": "code",
   "execution_count": 237,
   "id": "3500b530-d5d2-4ed8-8784-663970a3a24b",
   "metadata": {},
   "outputs": [
    {
     "name": "stdout",
     "output_type": "stream",
     "text": [
      "length order: ['a', 'aa', 'aaa', 'aaaa', 'aaaaa', 'aaaaaa', 'aaaaaaa', 'aaaaaaaa']\n"
     ]
    }
   ],
   "source": [
    "# Reverse Strings Based on Length\n",
    "\n",
    "a_list = [\"a\" * i for i in range(1, 9)]\n",
    "\n",
    "a_list.sort(key = len)\n",
    "\n",
    "print (f\"length order: {a_list}\")"
   ]
  },
  {
   "cell_type": "markdown",
   "id": "6e1d9e61-2a35-48cc-b5b8-3c0774e2a7d7",
   "metadata": {},
   "source": [
    "## reverse()\n",
    "* The reverse() method reverses the elements of the list.\n",
    "* syntax : list.reverse()\n",
    "* The reverse() method doesn't take any arguments.\n",
    "* The reverse() method doesn't return any value. It updates the existing list."
   ]
  },
  {
   "cell_type": "code",
   "execution_count": 243,
   "id": "d97dba08-75db-4050-b805-c772bc17e3db",
   "metadata": {},
   "outputs": [
    {
     "name": "stdout",
     "output_type": "stream",
     "text": [
      "original_list: ['1984', 'To Kill a Mockingbird', 'Pride and Prejudice', 'The Great Gatsby', 'Moby-Dick']\n",
      "Updated List: ['Moby-Dick', 'The Great Gatsby', 'Pride and Prejudice', 'To Kill a Mockingbird', '1984']\n"
     ]
    }
   ],
   "source": [
    "books = [\"1984\", \"To Kill a Mockingbird\", \"Pride and Prejudice\", \"The Great Gatsby\", \"Moby-Dick\"]\n",
    "\n",
    "print(f\"original_list: {books}\")\n",
    "\n",
    "# List Reverse\n",
    "books.reverse()\n",
    "\n",
    "# updated list\n",
    "print('Updated List:', books)"
   ]
  },
  {
   "cell_type": "markdown",
   "id": "052b8225-6374-44b6-a803-5276fc4814ac",
   "metadata": {},
   "source": [
    "## min()\n",
    "* returns the smallest of the values or the smallest item in an iterable passed as its parameter.\n",
    "* syntax  :  min(list)\n",
    "##### Parameters\n",
    "* a, b, c ;  similar type of data.\n",
    "* key (optional): A function to customize the sort order\n",
    "* Returns the smallest item."
   ]
  },
  {
   "cell_type": "code",
   "execution_count": 301,
   "id": "d5de4a68-6107-49c4-8100-4e03e57c5119",
   "metadata": {},
   "outputs": [
    {
     "name": "stdout",
     "output_type": "stream",
     "text": [
      "original alist : ['zzzab', 'zzzzbga', 'gzg', 'gzgzzgg', 'eopo', 'lllllll', 'vvvvvv']\n",
      "least string is: eopo\n"
     ]
    }
   ],
   "source": [
    "alist = ['zzzab', 'zzzzbga', 'gzg', 'gzgzzgg', 'eopo', 'lllllll', 'vvvvvv']\n",
    "\n",
    "# min \n",
    "loweststring = min(alist)\n",
    "\n",
    "print('original alist :', alist)\n",
    "\n",
    "print (f\"least string is: {loweststring}\")"
   ]
  },
  {
   "cell_type": "markdown",
   "id": "5b55981c-edce-4f85-a870-810c2c2c3d4f",
   "metadata": {},
   "source": [
    "## max() \n",
    "* max() function returns the largest item in an iterable or the largest of two or more arguments.\n",
    "* max() function with objects\n",
    "* max() function with iterable\n",
    "* syntax : max(arg1, arg2, *arg[key])\n",
    "#### Parameters : \n",
    "* arg1, arg2 : objects of the same datatype\n",
    "* *args : multiple objects\n",
    "* key : function where comparison of iterable is performed based on its return value\n",
    "* Returns : The maximum valu"
   ]
  },
  {
   "cell_type": "code",
   "execution_count": 264,
   "id": "07b2292d-9650-4404-bdb7-d4eaa60204af",
   "metadata": {},
   "outputs": [
    {
     "name": "stdout",
     "output_type": "stream",
     "text": [
      "8\n"
     ]
    }
   ],
   "source": [
    "\n",
    "var1 = 4\n",
    "var2 = 8\n",
    "var3 = 2\n",
    " \n",
    "max_val = max(var1, var2, var3)\n",
    "print(max_val)"
   ]
  },
  {
   "cell_type": "markdown",
   "id": "6041e375-fc8b-423c-a700-8b83dabf51e6",
   "metadata": {},
   "source": [
    "###### https://stackoverflow.com/questions/45950646/what-is-lexicographical-order"
   ]
  },
  {
   "cell_type": "code",
   "execution_count": 281,
   "id": "ab6b55d5-b129-49f3-8eea-0823fdc4f2fd",
   "metadata": {},
   "outputs": [
    {
     "name": "stdout",
     "output_type": "stream",
     "text": [
      "azfa\n"
     ]
    }
   ],
   "source": [
    "alist = ['ab', 'abc', 'azfa', 'aasaa', 'aaaata', 'aataa', 'aaaaatttttaaa']\n",
    "\n",
    "maxstring = max(alist)\n",
    "print(maxstring)\n",
    "\n",
    "      ## gives output as per Lexicographical order"
   ]
  },
  {
   "cell_type": "code",
   "execution_count": 287,
   "id": "65599137-8683-4c10-a629-9b244c9500a7",
   "metadata": {},
   "outputs": [
    {
     "name": "stdout",
     "output_type": "stream",
     "text": [
      "aaaaatttttaaa\n"
     ]
    }
   ],
   "source": [
    "## using arg and key\n",
    "max_val = max(alist, key=len)\n",
    "\n",
    "print(max_val)"
   ]
  },
  {
   "cell_type": "markdown",
   "id": "1995ca59-4ec8-4535-a721-87dabf32d71b",
   "metadata": {},
   "source": [
    "## len ()\n",
    "* gives no. of element in list\n",
    "* syntax : len(listname)"
   ]
  },
  {
   "cell_type": "code",
   "execution_count": 333,
   "id": "45e3f2fe-a529-4558-9f49-7d332203508e",
   "metadata": {},
   "outputs": [
    {
     "data": {
      "text/plain": [
       "10"
      ]
     },
     "execution_count": 333,
     "metadata": {},
     "output_type": "execute_result"
    }
   ],
   "source": [
    "l3 = ['a' , 'z', 'b' , 'y' , 'c' , 'x' , 'd' , 'w', 'e' , 'v']\n",
    "\n",
    "len(l3)"
   ]
  },
  {
   "cell_type": "raw",
   "id": "aa93694b-ffd9-40a5-9601-3cc5b34930d0",
   "metadata": {},
   "source": []
  },
  {
   "cell_type": "raw",
   "id": "00fdd952-5c71-46dc-820f-260b2cb21394",
   "metadata": {},
   "source": []
  },
  {
   "cell_type": "markdown",
   "id": "723ffa3b-a666-4a82-922c-ea374d3a0034",
   "metadata": {},
   "source": [
    "# Tuples\n",
    "* A tuple is a collection similar to a Python list. The primary difference is that we **cannot modify** a tuple once it is created.\n",
    "* We create a tuple by placing items inside parentheses ()\n",
    "\n",
    "### Tuple Characteristics\n",
    "##### Tuples are:\n",
    "* Ordered - They maintain the order of elements.\n",
    "* Immutable - They cannot be changed after creation.\n",
    "* Allow duplicates - They can contain duplicate values.\n",
    "\n"
   ]
  },
  {
   "cell_type": "markdown",
   "id": "cfb88d25-f443-4758-b53b-a9c288f1170a",
   "metadata": {},
   "source": [
    "* indexing and slicing works same as it does in list"
   ]
  },
  {
   "cell_type": "code",
   "execution_count": 321,
   "id": "8467a635-db7b-4507-9539-88448d9b957e",
   "metadata": {},
   "outputs": [
    {
     "name": "stdout",
     "output_type": "stream",
     "text": [
      "1. tuple of int is: (1, 2, 3, 4, 5)\n",
      "2. tuple of str is: ('apple', 'banana', 'cherry', 'date')\n",
      "3. tuple of various datatype is: (42, 'hello', 3.14, True)\n",
      "4. tuple of tuple is: ((1, 2, 765, 2, 75, 88), ('zzzab', 'zzzzbga', 'gzg', 'gzgzzgg', 'eopo', 'lllllll', 'vvvvvv'), (True, False))\n",
      "5. tuple_of_lists is: ([1, 2, 3], ['a', 'b', 'c'], [True, False])\n",
      "6. empty tuple is: ()\n",
      "7. boolean tuple is: (True, False, True, False)\n",
      "8. Tuple of float is: (1.1, 2.2, 3.3, 4.4, 5.5)\n",
      "9.a. This is not a tuple, this is a string: Hello\n",
      "9.b. This is a tuple: ('Hello',)\n"
     ]
    }
   ],
   "source": [
    "## Tuple of Integers\n",
    "integer_tuple = (1, 2, 3, 4, 5)\n",
    "print (f\"1. tuple of int is: {integer_tuple}\")\n",
    "\n",
    "## tuple of string\n",
    "str_tuple = (\"apple\", \"banana\", \"cherry\", \"date\")\n",
    "print (f\"2. tuple of str is: {str_tuple}\")\n",
    "\n",
    "## Tuple of Mixed Data Types\n",
    "mixed_tuple = (42, \"hello\", 3.14, True)\n",
    "print (f\"3. tuple of various datatype is: {mixed_tuple}\")\n",
    "\n",
    "##  Nested Tuple (Tuple of Tuples)\n",
    "nested_tuple = ((1, 2,765,2,75,88), ('zzzab', 'zzzzbga', 'gzg', 'gzgzzgg', 'eopo', 'lllllll', 'vvvvvv'), (True, False))\n",
    "print (f\"4. tuple of tuple is: {nested_tuple}\")\n",
    "\n",
    "## Tuple of List\n",
    "tuple_of_lists = ([1, 2, 3], [\"a\", \"b\", \"c\"], [True, False])\n",
    "print (f\"5. tuple_of_lists is: {tuple_of_lists}\")\n",
    "\n",
    "## empty tuple\n",
    "empty_tuple = ()\n",
    "print (f\"6. empty tuple is: {empty_tuple}\")\n",
    "\n",
    "## Tuple of boolean\n",
    "boolean_tuple = (True, False, True, False)\n",
    "print (f\"7. boolean tuple is: {boolean_tuple}\")\n",
    "\n",
    "## Tuple of float\n",
    "float_tuple = (1.1, 2.2, 3.3, 4.4, 5.5)\n",
    "print (f\"8. Tuple of float is: {float_tuple}\")\n",
    "\n",
    "## When we want to create a tuple with a single item\n",
    "\n",
    "var = ('Hello')\n",
    "print (f\"9.a. This is not a tuple, this is a string: {var}\")  # string\n",
    "\n",
    "## But this would not create a tuple; instead, it would be considered a string.\n",
    "## To solve this, we need to include a trailing comma after the item\n",
    "\n",
    "var1 = ('Hello',) \n",
    "print (f\"9.b. This is a tuple: {var1}\")  # tuple\n"
   ]
  },
  {
   "cell_type": "markdown",
   "id": "c8721798-0211-47ac-ab87-748d7a089a51",
   "metadata": {},
   "source": [
    "## len in tuple\n",
    "* len() function finds the number of items present in a tuple"
   ]
  },
  {
   "cell_type": "code",
   "execution_count": 326,
   "id": "f8216898-26e5-493b-a3a6-c637f66390bc",
   "metadata": {},
   "outputs": [
    {
     "name": "stdout",
     "output_type": "stream",
     "text": [
      "Total Items: 5\n"
     ]
    }
   ],
   "source": [
    "colors_tuple = (\"Red\", \"Green\", \"Blue\", \"Yellow\", \"Purple\")\n",
    "\n",
    "print('Total Items:', len(colors_tuple))"
   ]
  },
  {
   "cell_type": "markdown",
   "id": "e39d8c15-ccd5-41c9-85b3-def623d2bfdc",
   "metadata": {},
   "source": [
    "## in\n",
    "* We use the **in** keyword to check if an item exists in the tuple."
   ]
  },
  {
   "cell_type": "code",
   "execution_count": 339,
   "id": "a6e22e7d-a905-4ca8-9cce-3a9925ebdcef",
   "metadata": {},
   "outputs": [
    {
     "name": "stdout",
     "output_type": "stream",
     "text": [
      "False\n",
      "True\n"
     ]
    }
   ],
   "source": [
    "l3 = ['a' , 'z', 'b' , 'y' , 'c' , 'x' , 'd' , 'w', 'e' , 'v']\n",
    "\n",
    "print('k' in l3)   # false\n",
    "print('y' in l3)   # True"
   ]
  },
  {
   "cell_type": "markdown",
   "id": "cf433c1e-97cf-45c9-b7c6-5e5dcca781de",
   "metadata": {},
   "source": [
    "## Delete Tuples\n",
    "* We cannot delete individual items of a tuple. However, we can delete the tuple itself using the del statement"
   ]
  },
  {
   "cell_type": "code",
   "execution_count": 363,
   "id": "ce867aff-25c9-4863-a24a-6848f2904359",
   "metadata": {},
   "outputs": [
    {
     "data": {
      "text/plain": [
       "('Usain Bolt', 'Michael Phelps', 'Simone Biles', 'Tiger Woods', 'Tom Brady')"
      ]
     },
     "execution_count": 363,
     "metadata": {},
     "output_type": "execute_result"
    }
   ],
   "source": [
    "athletes = (\"Usain Bolt\", \"Michael Phelps\", \"Simone Biles\", \"Tiger Woods\", \"Tom Brady\")\n",
    "athletes"
   ]
  },
  {
   "cell_type": "code",
   "execution_count": 365,
   "id": "fd0ed112-3c72-4b5d-844c-b7ec0ed8edfc",
   "metadata": {},
   "outputs": [
    {
     "ename": "NameError",
     "evalue": "name 'athletes' is not defined",
     "output_type": "error",
     "traceback": [
      "\u001b[1;31m---------------------------------------------------------------------------\u001b[0m",
      "\u001b[1;31mNameError\u001b[0m                                 Traceback (most recent call last)",
      "Cell \u001b[1;32mIn[365], line 5\u001b[0m\n\u001b[0;32m      3\u001b[0m \u001b[38;5;66;03m# deleting the tuple\u001b[39;00m\n\u001b[0;32m      4\u001b[0m \u001b[38;5;28;01mdel\u001b[39;00m athletes\n\u001b[1;32m----> 5\u001b[0m \u001b[38;5;28mprint\u001b[39m(athletes)\n",
      "\u001b[1;31mNameError\u001b[0m: name 'athletes' is not defined"
     ]
    }
   ],
   "source": [
    "athletes = (\"Usain Bolt\", \"Michael Phelps\", \"Simone Biles\", \"Tiger Woods\", \"Tom Brady\")\n",
    "\n",
    "# deleting the tuple\n",
    "del athletes\n",
    "print(athletes)"
   ]
  },
  {
   "cell_type": "markdown",
   "id": "7b0c55ed-3839-4734-b385-b3cac28f3fd5",
   "metadata": {},
   "source": [
    "# Methods in Tuple \n"
   ]
  },
  {
   "cell_type": "markdown",
   "id": "e85cdd21-ac71-4c92-bb13-2054c0197487",
   "metadata": {},
   "source": [
    "## count()\n",
    "* The count() method returns the number of times the specified element appears in the tuple\n",
    "* syntax : tuple.count('element')\n",
    "* returns :  number of times the given element i is present in the tuple"
   ]
  },
  {
   "cell_type": "code",
   "execution_count": 353,
   "id": "d4fed395-2a66-445b-a8f5-d4bd6d8e259d",
   "metadata": {},
   "outputs": [
    {
     "name": "stdout",
     "output_type": "stream",
     "text": [
      "the count of 'Tom Brady' is 4\n"
     ]
    }
   ],
   "source": [
    "# tuple of athletes\n",
    "athletes = (\"Tom Brady\",\"Tom Brady\",\"Usain Bolt\", \"Michael Phelps\",\"Tom Brady\", \"Simone Biles\", \"Tiger Woods\", \"Tom Brady\",\"Michael Phelps\",\"Michael Phelps\",)\n",
    "\n",
    "# count \"Tom Brady\" in tuple\n",
    "print(f\"the count of 'Tom Brady' is {athletes.count(\"Tom Brady\")}\")"
   ]
  },
  {
   "cell_type": "markdown",
   "id": "11be1b47-33bc-4898-ae82-6de5088cb76f",
   "metadata": {},
   "source": [
    "## index()\n",
    "* The index() method returns the index of the specified element in the tuple."
   ]
  },
  {
   "cell_type": "code",
   "execution_count": 356,
   "id": "40cc6f1e-7ce8-4287-906a-75d6bd276a09",
   "metadata": {},
   "outputs": [
    {
     "name": "stdout",
     "output_type": "stream",
     "text": [
      "1\n"
     ]
    }
   ],
   "source": [
    "# tuple containing vowels\n",
    "vowels = ('a', 'e', 'i', 'o', 'u')\n",
    "\n",
    "# index of 'e' in vowels\n",
    "index = vowels.index('e')\n",
    "\n",
    "print(index)"
   ]
  },
  {
   "cell_type": "markdown",
   "id": "f6a2da24-4750-46a3-b87c-b5e2b40958d1",
   "metadata": {},
   "source": [
    "## type()\n",
    "* From Python's perspective, tuples are defined as objects with the data type 'tuple'"
   ]
  },
  {
   "cell_type": "code",
   "execution_count": 361,
   "id": "fc1c4ef6-13b9-469d-a4fc-c42918f3cef9",
   "metadata": {},
   "outputs": [
    {
     "data": {
      "text/plain": [
       "tuple"
      ]
     },
     "execution_count": 361,
     "metadata": {},
     "output_type": "execute_result"
    }
   ],
   "source": [
    "vowels = ('a', 'e', 'i', 'o', 'u')\n",
    "\n",
    "type(vowels)"
   ]
  }
 ],
 "metadata": {
  "kernelspec": {
   "display_name": "Python 3 (ipykernel)",
   "language": "python",
   "name": "python3"
  },
  "language_info": {
   "codemirror_mode": {
    "name": "ipython",
    "version": 3
   },
   "file_extension": ".py",
   "mimetype": "text/x-python",
   "name": "python",
   "nbconvert_exporter": "python",
   "pygments_lexer": "ipython3",
   "version": "3.12.4"
  }
 },
 "nbformat": 4,
 "nbformat_minor": 5
}
