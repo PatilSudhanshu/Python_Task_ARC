{
 "cells": [
  {
   "cell_type": "markdown",
   "id": "fdc1e93a-9135-4e95-b216-2065271bd997",
   "metadata": {},
   "source": [
    "# Task 5\n",
    "\n",
    "* create 10 level pyramid of *"
   ]
  },
  {
   "cell_type": "code",
   "execution_count": 30,
   "id": "6d292c3f-a100-4793-9a27-254bd71fddca",
   "metadata": {},
   "outputs": [
    {
     "name": "stdout",
     "output_type": "stream",
     "text": [
      "0\n",
      "1\n",
      "2\n",
      "3\n",
      "4\n",
      "5\n",
      "6\n",
      "7\n",
      "8\n",
      "9\n",
      "10\n"
     ]
    }
   ],
   "source": [
    "for i in range (0,11):\n",
    "    print(i)"
   ]
  },
  {
   "cell_type": "code",
   "execution_count": 52,
   "id": "959b6ac4-8b26-4d9c-b5f3-f1268c4b09d3",
   "metadata": {},
   "outputs": [
    {
     "name": "stdout",
     "output_type": "stream",
     "text": [
      "a\n",
      "bb\n"
     ]
    }
   ],
   "source": [
    "print(\"a\");print(\"bb\")"
   ]
  },
  {
   "cell_type": "code",
   "execution_count": 54,
   "id": "e2fc1397-49e3-452d-acb1-a816e1ecdf66",
   "metadata": {},
   "outputs": [
    {
     "name": "stdout",
     "output_type": "stream",
     "text": [
      "abb\n"
     ]
    }
   ],
   "source": [
    "print(\"a\",end='');print(\"bb\")"
   ]
  },
  {
   "cell_type": "code",
   "execution_count": 58,
   "id": "6922f59c-391a-4584-acac-ecfa71156534",
   "metadata": {},
   "outputs": [
    {
     "name": "stdout",
     "output_type": "stream",
     "text": [
      "*\n",
      "**\n",
      "***\n",
      "****\n",
      "*****\n",
      "******\n",
      "*******\n",
      "********\n",
      "*********\n",
      "**********\n"
     ]
    }
   ],
   "source": [
    "# Function to print a half pyramid pattern\n",
    "\n",
    "for i in range (1,11):               ## this outer loop controls the number of rows\n",
    "    for j in range (1,i+1):         ## this inner loop controls no. of * printed in each row so, * increases as we move down\n",
    "        print('*', end='')        ## this prints * followed by space end = arg ensures that next star is printed on same line, seperated by space\n",
    "    print('')                    ## After the inner loop completes, this print(\"\") statement moves the cursor to the next line        "
   ]
  },
  {
   "cell_type": "markdown",
   "id": "36546722-bc85-43a2-a192-b66734d6d53f",
   "metadata": {},
   "source": [
    " here for rows we have taken one for loop and for columns we have taken another for loop\n",
    " range () "
   ]
  },
  {
   "cell_type": "code",
   "execution_count": 46,
   "id": "63e15c42-0cc7-439e-b9f2-ba79fc5a9b72",
   "metadata": {},
   "outputs": [
    {
     "name": "stdin",
     "output_type": "stream",
     "text": [
      "enter no of rows 9\n"
     ]
    },
    {
     "name": "stdout",
     "output_type": "stream",
     "text": [
      "* \n",
      "* * \n",
      "* * * \n",
      "* * * * \n",
      "* * * * * \n",
      "* * * * * * \n",
      "* * * * * * * \n",
      "* * * * * * * * \n",
      "* * * * * * * * * \n"
     ]
    }
   ],
   "source": [
    "num = int(input(\"enter no of rows\"))\n",
    "\n",
    "for i in range (1, num+1):\n",
    "    for j in range (1, i+1):\n",
    "        print ('*', end= \" \")\n",
    "    print('')"
   ]
  },
  {
   "cell_type": "code",
   "execution_count": null,
   "id": "78a412c9-be2f-4fc5-923b-1095a7c56c30",
   "metadata": {},
   "outputs": [],
   "source": []
  }
 ],
 "metadata": {
  "kernelspec": {
   "display_name": "Python 3 (ipykernel)",
   "language": "python",
   "name": "python3"
  },
  "language_info": {
   "codemirror_mode": {
    "name": "ipython",
    "version": 3
   },
   "file_extension": ".py",
   "mimetype": "text/x-python",
   "name": "python",
   "nbconvert_exporter": "python",
   "pygments_lexer": "ipython3",
   "version": "3.12.4"
  }
 },
 "nbformat": 4,
 "nbformat_minor": 5
}
