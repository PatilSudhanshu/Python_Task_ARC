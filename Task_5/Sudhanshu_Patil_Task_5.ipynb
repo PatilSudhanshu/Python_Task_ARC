{
 "cells": [
  {
   "cell_type": "markdown",
   "id": "fdc1e93a-9135-4e95-b216-2065271bd997",
   "metadata": {},
   "source": [
    "# Task 5\n",
    "\n",
    "* create 10 level pyramid of \"*\""
   ]
  },
  {
   "cell_type": "code",
   "execution_count": 2,
   "id": "6d292c3f-a100-4793-9a27-254bd71fddca",
   "metadata": {},
   "outputs": [
    {
     "name": "stdout",
     "output_type": "stream",
     "text": [
      "*\n",
      "*\n",
      "*\n",
      "*\n",
      "*\n",
      "*\n",
      "*\n",
      "*\n",
      "*\n",
      "*\n",
      "*\n"
     ]
    }
   ],
   "source": [
    "for i in range (0,11):\n",
    "    print('*')"
   ]
  },
  {
   "cell_type": "code",
   "execution_count": 3,
   "id": "959b6ac4-8b26-4d9c-b5f3-f1268c4b09d3",
   "metadata": {},
   "outputs": [
    {
     "name": "stdout",
     "output_type": "stream",
     "text": [
      "a\n",
      "bb\n"
     ]
    }
   ],
   "source": [
    "print(\"a\");print(\"bb\")"
   ]
  },
  {
   "cell_type": "code",
   "execution_count": 4,
   "id": "e2fc1397-49e3-452d-acb1-a816e1ecdf66",
   "metadata": {},
   "outputs": [
    {
     "name": "stdout",
     "output_type": "stream",
     "text": [
      "abb\n"
     ]
    }
   ],
   "source": [
    "print(\"a\",end='');print(\"bb\")"
   ]
  },
  {
   "cell_type": "markdown",
   "id": "e3e0d348-1b66-4ca7-9671-84a1a9b2c794",
   "metadata": {},
   "source": [
    "### explaination\n",
    "\n",
    "* outer for loop gives height of pyramid i.e. no. of times outer loop will run\n",
    "* inner for loop gives no. of columns in each row. i.e. for every row no. of row = no. of column\n",
    "* print ('*') gives * pattern"
   ]
  },
  {
   "cell_type": "markdown",
   "id": "36546722-bc85-43a2-a192-b66734d6d53f",
   "metadata": {},
   "source": [
    " here, for rows we have taken one for loop and for columns we have taken another for loop\n",
    " range () "
   ]
  },
  {
   "cell_type": "code",
   "execution_count": 7,
   "id": "6922f59c-391a-4584-acac-ecfa71156534",
   "metadata": {},
   "outputs": [
    {
     "name": "stdout",
     "output_type": "stream",
     "text": [
      "*  \n",
      "* *  \n",
      "* * *  \n",
      "* * * *  \n",
      "* * * * *  \n",
      "* * * * * *  \n",
      "* * * * * * *  \n",
      "* * * * * * * *  \n",
      "* * * * * * * * *  \n",
      "* * * * * * * * * *  \n"
     ]
    }
   ],
   "source": [
    "# Function to print a half pyramid pattern\n",
    "\n",
    "for i in range (1,11):               ## this outer loop controls the number of rows\n",
    "    for j in range (1,i+1):         ## this inner loop controls no. of * printed in each row so, * increases as we move down\n",
    "        print('*', end=' ')        ## this prints * followed by space end = arg ensures that next star is printed on same line, seperated by space\n",
    "    print(' ')                    ## After the inner loop completes, this print(\"\") statement moves the cursor to the next line        "
   ]
  },
  {
   "cell_type": "code",
   "execution_count": 8,
   "id": "63e15c42-0cc7-439e-b9f2-ba79fc5a9b72",
   "metadata": {},
   "outputs": [
    {
     "name": "stdin",
     "output_type": "stream",
     "text": [
      "enter no of rows 4\n"
     ]
    },
    {
     "name": "stdout",
     "output_type": "stream",
     "text": [
      "* \n",
      "* * \n",
      "* * * \n",
      "* * * * \n"
     ]
    }
   ],
   "source": [
    "# pyramid with input function\n",
    "num = int(input(\"enter no of rows\"))\n",
    "\n",
    "for i in range (1, num+1):\n",
    "    for j in range (1, i+1):\n",
    "        print ('*', end= \" \")\n",
    "    print('')"
   ]
  },
  {
   "cell_type": "code",
   "execution_count": 9,
   "id": "77af817b-faa6-4ada-97db-abcd4fa15ab1",
   "metadata": {},
   "outputs": [
    {
     "name": "stdout",
     "output_type": "stream",
     "text": [
      "* * * * * * * * * * \n",
      "* * * * * * * * * \n",
      "* * * * * * * * \n",
      "* * * * * * * \n",
      "* * * * * * \n",
      "* * * * * \n",
      "* * * * \n",
      "* * * \n",
      "* * \n",
      "* \n"
     ]
    }
   ],
   "source": [
    "for i in range (10):\n",
    "    for j in range (i,10):\n",
    "        print('*',end=' ')\n",
    "    print()\n",
    "\n",
    "\n",
    "  # for i in range(10):\n",
    "  #    for j in range(10,i+1,-1):\n",
    "  #       print('*',end=(' ')) \n",
    "  #    print() "
   ]
  },
  {
   "cell_type": "code",
   "execution_count": 10,
   "id": "9d9a6d96-aa48-4bf4-b6eb-9b2381c645f1",
   "metadata": {},
   "outputs": [
    {
     "name": "stdout",
     "output_type": "stream",
     "text": [
      "  * * * * * * * * * *  \n",
      "    * * * * * * * * *  \n",
      "      * * * * * * * *  \n",
      "        * * * * * * *  \n",
      "          * * * * * *  \n",
      "            * * * * *  \n",
      "              * * * *  \n",
      "                * * *  \n",
      "                  * *  \n",
      "                    *  \n"
     ]
    }
   ],
   "source": [
    "for i in range (1,11):\n",
    "    for j in range (1,i+1):\n",
    "        print(' ', end=' ')\n",
    "    for j in range (11,i,-1):\n",
    "        print('*',end=' ')\n",
    "    print(' ')"
   ]
  },
  {
   "cell_type": "code",
   "execution_count": null,
   "id": "9ebce84b-ceb9-410f-baff-2a4bbb7ce25e",
   "metadata": {},
   "outputs": [],
   "source": []
  },
  {
   "cell_type": "code",
   "execution_count": 31,
   "id": "9d526ca8-9d34-45b2-b273-8190a056545c",
   "metadata": {},
   "outputs": [
    {
     "name": "stdout",
     "output_type": "stream",
     "text": [
      "*  *  *  *  *  *  *  *  *  *  \n",
      "*  *  *  *  *  *  *  *  *  *  \n",
      "*  *  *  *  *  *  *  *  *  *  \n",
      "*  *  *  *  *  *  *  *  *  *  \n",
      "*  *  *  *  *  *  *  *  *  *  \n",
      "*  *  *  *  *  *  *  *  *  *  \n",
      "*  *  *  *  *  *  *  *  *  *  \n",
      "*  *  *  *  *  *  *  *  *  *  \n",
      "*  *  *  *  *  *  *  *  *  *  \n",
      "*  *  *  *  *  *  *  *  *  *  \n"
     ]
    }
   ],
   "source": [
    "for i in range (10):\n",
    "    for j in range (10):\n",
    "        print('*',end='  ')\n",
    "    print('')"
   ]
  },
  {
   "cell_type": "code",
   "execution_count": 45,
   "id": "dd385b3a-3789-4b2b-af59-6b62150db2f3",
   "metadata": {
    "scrolled": true
   },
   "outputs": [
    {
     "name": "stdout",
     "output_type": "stream",
     "text": [
      "*  \n",
      "*  *  \n",
      "*  *  *  \n",
      "*  *  *  *  \n",
      "*  *  *  *  *  \n",
      "*  *  *  *  *  *  \n",
      "*  *  *  *  *  *  *  \n",
      "*  *  *  *  *  *  *  *  \n",
      "*  *  *  *  *  *  *  *  *  \n",
      "*  *  *  *  *  *  *  *  *  *  \n"
     ]
    }
   ],
   "source": [
    "# increasing triangle\n",
    "for i in range (10):\n",
    "    for j in range (i+1):  # * will increase as 1 - 10 as row increases\n",
    "      print('*',end='  ')\n",
    "    print('')"
   ]
  },
  {
   "cell_type": "code",
   "execution_count": 47,
   "id": "0478175b-9456-4b1b-9b0c-75b356986cd1",
   "metadata": {},
   "outputs": [
    {
     "name": "stdout",
     "output_type": "stream",
     "text": [
      "*  *  *  *  *  *  *  *  *  *  \n",
      "*  *  *  *  *  *  *  *  *  \n",
      "*  *  *  *  *  *  *  *  \n",
      "*  *  *  *  *  *  *  \n",
      "*  *  *  *  *  *  \n",
      "*  *  *  *  *  \n",
      "*  *  *  *  \n",
      "*  *  *  \n",
      "*  *  \n",
      "*  \n"
     ]
    }
   ],
   "source": [
    "# decreasing triangle\n",
    "for i in range (10):\n",
    "    for j in range (i,10): # * will decrease as 10 to 1 as row increases\n",
    "      print('*',end='  ')\n",
    "    print('')"
   ]
  },
  {
   "cell_type": "code",
   "execution_count": 119,
   "id": "ed4c26a6-edd4-4296-8e25-af0a1803f82f",
   "metadata": {},
   "outputs": [
    {
     "name": "stdout",
     "output_type": "stream",
     "text": [
      "                              \n",
      "                           *  \n",
      "                        *  *  \n",
      "                     *  *  *  \n",
      "                  *  *  *  *  \n",
      "               *  *  *  *  *  \n",
      "            *  *  *  *  *  *  \n",
      "         *  *  *  *  *  *  *  \n",
      "      *  *  *  *  *  *  *  *  \n",
      "   *  *  *  *  *  *  *  *  *  \n"
     ]
    }
   ],
   "source": [
    "for i in range (10):\n",
    "    for j in range (i,10):\n",
    "      print(' ',end='  ')  # decreasing space triangle\n",
    "    for j in range (i):    #increasing * triangle\n",
    "      print('*',end='  ')\n",
    "    print('')"
   ]
  },
  {
   "cell_type": "code",
   "execution_count": 59,
   "id": "f49c1296-3639-49a3-a2c6-70b3015dd59f",
   "metadata": {},
   "outputs": [
    {
     "name": "stdout",
     "output_type": "stream",
     "text": [
      "*  *  *  *  *  *  *  *  *  *  \n",
      "   *  *  *  *  *  *  *  *  *  \n",
      "      *  *  *  *  *  *  *  *  \n",
      "         *  *  *  *  *  *  *  \n",
      "            *  *  *  *  *  *  \n",
      "               *  *  *  *  *  \n",
      "                  *  *  *  *  \n",
      "                     *  *  *  \n",
      "                        *  *  \n",
      "                           *  \n"
     ]
    }
   ],
   "source": [
    "for i in range (10):\n",
    "    for j in range (i):\n",
    "      print(' ',end='  ')\n",
    "    for j in range (i,10):\n",
    "      print('*',end='  ')\n",
    "    print('')"
   ]
  },
  {
   "cell_type": "code",
   "execution_count": 13,
   "id": "1e476d5c-fbe1-458b-83c9-57a3f1e4a48f",
   "metadata": {
    "scrolled": true
   },
   "outputs": [
    {
     "name": "stdout",
     "output_type": "stream",
     "text": [
      "                    *  \n",
      "                  * * *  \n",
      "                * * * * *  \n",
      "              * * * * * * *  \n",
      "            * * * * * * * * *  \n",
      "          * * * * * * * * * * *  \n",
      "        * * * * * * * * * * * * *  \n",
      "      * * * * * * * * * * * * * * *  \n",
      "    * * * * * * * * * * * * * * * * *  \n",
      "  * * * * * * * * * * * * * * * * * * *  \n"
     ]
    }
   ],
   "source": [
    "for i in range(10):\n",
    "    for j in range (i,10):\n",
    "        print(' ',end=' ')\n",
    "    for j in range (i):\n",
    "        print('*',end=' ')\n",
    "    for j in range (i+1):\n",
    "        print('*',end=' ')\n",
    "    print(' ')"
   ]
  },
  {
   "cell_type": "code",
   "execution_count": 73,
   "id": "7c4aaf35-58db-4318-8e4f-2bfd5e47c175",
   "metadata": {},
   "outputs": [
    {
     "name": "stdout",
     "output_type": "stream",
     "text": [
      "* * * * * * * * * * * * * * * * * * * \n",
      "  * * * * * * * * * * * * * * * * * \n",
      "    * * * * * * * * * * * * * * * \n",
      "      * * * * * * * * * * * * * \n",
      "        * * * * * * * * * * * \n",
      "          * * * * * * * * * \n",
      "            * * * * * * * \n",
      "              * * * * * \n",
      "                * * * \n",
      "                  * \n"
     ]
    }
   ],
   "source": [
    "for i in range (10):\n",
    "    for j in range (i):\n",
    "        print(' ',end=' ')  # this loop will print space triangle\n",
    "    for j in range (i,10):  # this loop will print left * triangle\n",
    "        print('*',end=' ')\n",
    "    for j in range (i,9):   # this loop will print right * triangle\n",
    "        print('*',end=' ')\n",
    "    print('')"
   ]
  },
  {
   "cell_type": "code",
   "execution_count": null,
   "id": "8eb8d232-d6e5-4cf2-94b5-d1b7c764a975",
   "metadata": {},
   "outputs": [],
   "source": []
  }
 ],
 "metadata": {
  "kernelspec": {
   "display_name": "Python 3 (ipykernel)",
   "language": "python",
   "name": "python3"
  },
  "language_info": {
   "codemirror_mode": {
    "name": "ipython",
    "version": 3
   },
   "file_extension": ".py",
   "mimetype": "text/x-python",
   "name": "python",
   "nbconvert_exporter": "python",
   "pygments_lexer": "ipython3",
   "version": "3.12.4"
  }
 },
 "nbformat": 4,
 "nbformat_minor": 5
}
