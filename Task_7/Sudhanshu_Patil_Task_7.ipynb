{
 "cells": [
  {
   "cell_type": "markdown",
   "id": "80bd69bc-223b-4503-a6a5-bb81cf652e4d",
   "metadata": {},
   "source": [
    "# Task_7\n",
    "* AND, OR, NOT, function inside function , short hand loop feature, case & match"
   ]
  },
  {
   "cell_type": "markdown",
   "id": "502d5dcf-d041-4671-bdf2-79923ba7340c",
   "metadata": {},
   "source": [
    "# Logical Operators\n",
    "* AND : Returns True if both conditions are True.\n",
    "* OR : Returns True if at least one condition is True.\n",
    "* NOT : Inverts the Boolean value (True becomes False and vice versa)."
   ]
  },
  {
   "cell_type": "code",
   "execution_count": 1,
   "id": "952881a6-fe6d-4d0a-8ef4-f9760e1b7499",
   "metadata": {},
   "outputs": [
    {
     "name": "stdout",
     "output_type": "stream",
     "text": [
      "At least one condition is true\n",
      "x is not less than 50 and y is not greater than 23\n"
     ]
    }
   ],
   "source": [
    "x = int(input('Enter value of x: '))\n",
    "y = int(input('Enter value of y: '))\n",
    "\n",
    "def valueOfxAndy():\n",
    "    # AND example\n",
    "    if x > 50 and y < 23:\n",
    "        print('Both conditions are true')\n",
    "    \n",
    "    # OR example\n",
    "    if x > 50 or y < 23:\n",
    "        print('At least one condition is true')\n",
    "    \n",
    "    # NOT example\n",
    "    if not x > 50 or y < 23:\n",
    "        print('x is not less than 50 and y is not greater than 23')\n",
    "\n",
    "# Call the function to execute it\n",
    "valueOfxAndy()\n"
   ]
  },
  {
   "cell_type": "markdown",
   "id": "e5be5f1d-224c-4dd8-a001-0256efbfcd30",
   "metadata": {},
   "source": [
    "# functions in functions"
   ]
  },
  {
   "cell_type": "code",
   "execution_count": 10,
   "id": "1c8a1222",
   "metadata": {},
   "outputs": [
    {
     "name": "stdout",
     "output_type": "stream",
     "text": [
      "At least one value is between 10 and 20\n"
     ]
    }
   ],
   "source": [
    "def outer_function(x, y):\n",
    "    def inner_function(z):\n",
    "        if z > 10 and z < 20:\n",
    "            return True\n",
    "        else:\n",
    "            return False\n",
    "\n",
    "    if inner_function(x) and inner_function(y):\n",
    "        return \"Both values are between 10 and 20\"\n",
    "    elif inner_function(x) or inner_function(y):\n",
    "        return \"At least one value is between 10 and 20\"\n",
    "    else:\n",
    "        return \"Neither value is between 10 and 20\"\n",
    "\n",
    "print(outer_function(15, 2))  # Output: \"At least one value is between 10 and 20\"\n"
   ]
  },
  {
   "cell_type": "markdown",
   "id": "21a9fab6",
   "metadata": {},
   "source": [
    "# short hand loop\n",
    "* Shorthand loops in Python, often referred to as comprehensions, provide a concise way to create lists, dictionaries, sets and generators\n",
    "\n",
    "    *   **Generator Function**\n",
    "     \n",
    "            * A generator function looks like a regular function, but instead of using return to return a value and terminate, it uses yield to yield a value and pause the function’s execution."
   ]
  },
  {
   "cell_type": "code",
   "execution_count": 16,
   "id": "32208562",
   "metadata": {},
   "outputs": [
    {
     "name": "stdout",
     "output_type": "stream",
     "text": [
      "[0, 1, 4, 9, 16, 25, 36, 49, 64, 81]\n"
     ]
    }
   ],
   "source": [
    "# Normal loop\n",
    "squares = []\n",
    "for i in range(10):\n",
    "    squares.append(i**2)\n",
    "print(squares)\n"
   ]
  },
  {
   "cell_type": "code",
   "execution_count": 17,
   "id": "14c7f5fd",
   "metadata": {},
   "outputs": [
    {
     "name": "stdout",
     "output_type": "stream",
     "text": [
      "[0, 1, 4, 9, 16, 25, 36, 49, 64, 81]\n"
     ]
    }
   ],
   "source": [
    "# List comprehension\n",
    "squares = [i**2 for i in range(10)]\n",
    "print(squares)"
   ]
  },
  {
   "cell_type": "code",
   "execution_count": 14,
   "id": "82de835d",
   "metadata": {},
   "outputs": [
    {
     "name": "stdout",
     "output_type": "stream",
     "text": [
      "{0: 0, 1: 1, 2: 4, 3: 9, 4: 16}\n"
     ]
    }
   ],
   "source": [
    "# Normal loop\n",
    "squares_dict = {}\n",
    "for i in range(5):\n",
    "    squares_dict[i] = i**2\n",
    "print(squares_dict)"
   ]
  },
  {
   "cell_type": "code",
   "execution_count": 15,
   "id": "9f1dc20b",
   "metadata": {},
   "outputs": [
    {
     "name": "stdout",
     "output_type": "stream",
     "text": [
      "{0: 0, 1: 1, 2: 4, 3: 9, 4: 16}\n"
     ]
    }
   ],
   "source": [
    "# Dictionary comprehension\n",
    "squares_dict = {i: i**2 for i in range(5)}\n",
    "print(squares_dict)\n"
   ]
  },
  {
   "cell_type": "markdown",
   "id": "60077ea6",
   "metadata": {},
   "source": [
    "# Case"
   ]
  },
  {
   "cell_type": "code",
   "execution_count": 22,
   "id": "ab386f73",
   "metadata": {},
   "outputs": [
    {
     "name": "stdout",
     "output_type": "stream",
     "text": [
      "Monday : Today is 1st day of week\n"
     ]
    }
   ],
   "source": [
    "day = input(\"Enter the day of the week : \").capitalize()\n",
    "\n",
    "match day:\n",
    "    case \"Saturday\" | \"Sunday\":\n",
    "        print(f\"{day} : Today is weekday\")\n",
    "    case \"Monday\":\n",
    "        print(f\"{day} : Today is 1st day of week\")\n",
    "    case \"Tuesday\" | \"Wednesday\" | \"Thursday\":\n",
    "        print(f\"{day} : Today is just another of week\")\n",
    "    case \"Friday\":\n",
    "        print(f\"{day} : Today is LAST day of week\")\n",
    "    case _:\n",
    "        print(f\"{day} : Enter proper day\")"
   ]
  },
  {
   "cell_type": "markdown",
   "id": "1bfef8bb",
   "metadata": {},
   "source": [
    "* The first line prompts the user to input the day of the week and capitalizes the first letter.\n",
    "* The match statement is used to compare the user's input with different cases\n",
    "* If the user's input matches \"Saturday\" or \"Sunday\", it prints that the day is a weekend.\n",
    "* If the user's input matches any of the weekdays, it prints that the day is a weekday.\n",
    "* The case _: is a catch-all case that matches anything not covered by the previous cases.\n",
    "* If the user's input doesn't match any of the defined cases, it prints an error message."
   ]
  },
  {
   "cell_type": "markdown",
   "id": "06da4f4e",
   "metadata": {},
   "source": []
  }
 ],
 "metadata": {
  "kernelspec": {
   "display_name": "Python 3 (ipykernel)",
   "language": "python",
   "name": "python3"
  },
  "language_info": {
   "codemirror_mode": {
    "name": "ipython",
    "version": 3
   },
   "file_extension": ".py",
   "mimetype": "text/x-python",
   "name": "python",
   "nbconvert_exporter": "python",
   "pygments_lexer": "ipython3",
   "version": "3.12.5"
  }
 },
 "nbformat": 4,
 "nbformat_minor": 5
}
