{
 "cells": [
  {
   "cell_type": "markdown",
   "id": "491b28a2-a624-450c-a8b2-efc6fcc65a43",
   "metadata": {},
   "source": [
    "# create function to return dictionary of user data\n",
    "* take value from input\n",
    "* check age and select correct age category\n",
    "* return dictionary of user_data"
   ]
  },
  {
   "cell_type": "code",
   "execution_count": 300,
   "id": "bb67a9da-ca1d-4034-a82b-6d8291403b61",
   "metadata": {},
   "outputs": [
    {
     "name": "stdout",
     "output_type": "stream",
     "text": [
      "{'user_id': 1, 'user_name': 'user1', 'user_age': 24, 'age_category': 'young adult'}\n",
      "{'user_id': 2, 'user_name': 'user2', 'user_age': 2, 'age_category': 'elder'}\n",
      "{'user_id': 3, 'user_name': 'user3', 'user_age': 46, 'age_category': 'adult'}\n",
      "{'user_id': 4, 'user_name': 'user4', 'user_age': 70, 'age_category': 'senior'}\n",
      "{'user_id': 6, 'user_name': 'user5', 'user_age': 24, 'age_category': 'young adult'}\n",
      "{'user_id': 7, 'user_name': 'user6', 'user_age': 45, 'age_category': 'adult'}\n",
      "{'user_id': 8, 'user_name': 'user7', 'user_age': 4, 'age_category': 'elder'}\n"
     ]
    }
   ],
   "source": [
    "\n",
    "def user_data(user_id , user_name , age):\n",
    "     if  age <=18 :\n",
    "         age_category = \"elder\"\n",
    "     elif 18 < age <= 25:\n",
    "         age_category = \"young adult\"\n",
    "     elif 25 < age <= 55:\n",
    "         age_category = \"adult\"\n",
    "     else : \n",
    "        age_category = \"senior\"\n",
    "\n",
    "     return {\"user_id\" : user_id , \"user_name\" : user_name , \"user_age\" : age , \"age_category\" : age_category }\n",
    "\n",
    "\n",
    "print(user_data (1,'user1',24))\n",
    "\n",
    "print(user_data (2,'user2',2 ))\n",
    "\n",
    "print(user_data (3,'user3',46))\n",
    "\n",
    "print(user_data (4,'user4',70))\n",
    "\n",
    "print(user_data (6,'user5',24))\n",
    "\n",
    "print(user_data (7,'user6',45))\n",
    "\n",
    "print(user_data (8,'user7',4 ))"
   ]
  },
  {
   "cell_type": "markdown",
   "id": "4f95c97f-b2e9-48e0-86f2-53245bf648fd",
   "metadata": {},
   "source": [
    "#"
   ]
  },
  {
   "cell_type": "markdown",
   "id": "0d31975c-7202-4c2d-bd41-a0b3eb312f0f",
   "metadata": {},
   "source": [
    "### Take dictionary input from user."
   ]
  },
  {
   "cell_type": "code",
   "execution_count": 296,
   "id": "15bba6a5-ea6e-4c97-aa9f-c5e8efa78dd1",
   "metadata": {},
   "outputs": [
    {
     "name": "stdin",
     "output_type": "stream",
     "text": [
      "Enter size of your dict 3\n",
      "enter the user name: w1\n",
      "enter age : 22\n",
      "enter the user name: w2\n",
      "enter age : 43\n",
      "enter the user name: w3\n",
      "enter age : 77\n"
     ]
    },
    {
     "name": "stdout",
     "output_type": "stream",
     "text": [
      "the dict is {'w1': '22', 'w2': '43', 'w3': '77'}\n"
     ]
    }
   ],
   "source": [
    "d = {}         # initialise empty dict in which key : values will be stored\n",
    "\n",
    "size = int(input('Enter size of your dict'))   \n",
    "\n",
    "                # Prompts the user to enter the number of key-value pairs they want to add to the dictionary. \n",
    "                    ## The input is converted to an integer and stored in the variable 'size'.\n",
    "\n",
    "for i in range (size):       # this loop will repeat size times\n",
    "    key = input ('enter the user name:')   # Prompts the user to enter a name. \n",
    "                                                ## The input is stored in the variable 'key'. This will be the keys in the dictionary.\n",
    "    \n",
    "    value = input('enter age :')       # Prompts the user to enter the age category. \n",
    "                                                # The input is stored in the variable 'value'. This will be the values in the dictionary.\n",
    "\n",
    "    d[key] = value               ## This line adds an entry to the dictionary 'd'. \n",
    "                                 ## The key (user name) is paired with the value (age category),creating a key-value pair in the dictionary.\n",
    "\n",
    "print('the dict is',d)\n"
   ]
  },
  {
   "cell_type": "markdown",
   "id": "f63f3be3-a250-480b-8cb6-19a89c81958a",
   "metadata": {},
   "source": [
    "#"
   ]
  },
  {
   "cell_type": "markdown",
   "id": "f7b48ab2-6027-4bad-b188-6cf4a4760dbf",
   "metadata": {},
   "source": [
    "### Take dictionary input from user and assign age category ."
   ]
  },
  {
   "cell_type": "code",
   "execution_count": 298,
   "id": "d2325120-9faf-44dd-9f5f-48b8ba85216f",
   "metadata": {},
   "outputs": [
    {
     "name": "stdin",
     "output_type": "stream",
     "text": [
      "enter size of dictionary 3\n",
      "enter user name: u1\n",
      "enter user age 22\n",
      "enter user name: u2\n",
      "enter user age 55\n",
      "enter user name: u3\n",
      "enter user age 77\n"
     ]
    },
    {
     "name": "stdout",
     "output_type": "stream",
     "text": [
      "This dictionary of user_data is : {'u1': (22, 'Young Adult'), 'u2': (55, 'Adult'), 'u3': (77, 'Senior')}\n"
     ]
    }
   ],
   "source": [
    "def assign_age_category(age):\n",
    "    if age < 18:\n",
    "        return \"Teen\"\n",
    "    elif 18 <= age <= 25:\n",
    "        return \"Young Adult\"\n",
    "    elif 26 <= age <= 55:\n",
    "        return \"Adult\"\n",
    "    else:\n",
    "        return \"Senior\"\n",
    "d= {}\n",
    "\n",
    "size = int(input('enter size of dictionary'))     # Loop to collect user details ; runs \"size\" times.\n",
    "\n",
    "for i in range (size):\n",
    "    user_name = input('enter user name:')        \n",
    "    age = int(input('enter user age'))      # input user details\n",
    "   \n",
    "    \n",
    "    age_category = assign_age_category(age)       # assign the age category from \"assign_age_category(age):\"\n",
    "    \n",
    "    # Add to the dictionary\n",
    "    d[user_name] = age, age_category\n",
    "\n",
    "print('This dictionary of user_data is :', d)"
   ]
  }
 ],
 "metadata": {
  "kernelspec": {
   "display_name": "Python 3 (ipykernel)",
   "language": "python",
   "name": "python3"
  },
  "language_info": {
   "codemirror_mode": {
    "name": "ipython",
    "version": 3
   },
   "file_extension": ".py",
   "mimetype": "text/x-python",
   "name": "python",
   "nbconvert_exporter": "python",
   "pygments_lexer": "ipython3",
   "version": "3.12.4"
  }
 },
 "nbformat": 4,
 "nbformat_minor": 5
}
