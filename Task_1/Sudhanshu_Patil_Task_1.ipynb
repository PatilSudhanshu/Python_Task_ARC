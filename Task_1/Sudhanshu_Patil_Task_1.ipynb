{
 "cells": [
  {
   "cell_type": "markdown",
   "id": "3752ec2a-86cc-4da2-8df7-c05c0f6dfb31",
   "metadata": {},
   "source": [
    "# Task_1\n",
    "* Search and use 15 String Functions"
   ]
  },
  {
   "cell_type": "markdown",
   "id": "aa881291-8a08-4889-ad4c-3061053d0453",
   "metadata": {},
   "source": [
    "## 1. join()\n",
    "* If you need to convert a list to a string in Python .join() function is used\n",
    "* we can use the join() method with different types of iterable such as Lists, Tuple, String, Dictionary, and Sets"
   ]
  },
  {
   "cell_type": "code",
   "execution_count": 11,
   "id": "41a80f73-dddf-41e9-baf2-bf162e9dec26",
   "metadata": {},
   "outputs": [],
   "source": [
    "colors = [\"Purple\", \"Red\", \"Orange\", \"Green\", \"White\", \"Blue\", \"yellow\"]"
   ]
  },
  {
   "cell_type": "code",
   "execution_count": 13,
   "id": "8dd8818a-b332-4647-9a87-970dfb04dbd1",
   "metadata": {},
   "outputs": [
    {
     "name": "stdout",
     "output_type": "stream",
     "text": [
      "['Purple', 'Red', 'Orange', 'Green', 'White', 'Blue', 'yellow']\n"
     ]
    }
   ],
   "source": [
    "print(colors)"
   ]
  },
  {
   "cell_type": "code",
   "execution_count": 15,
   "id": "0ed7c335-fe1f-43f9-b7db-6b8fb31a6c6a",
   "metadata": {},
   "outputs": [],
   "source": [
    "joined_colors = \",\".join(colors)"
   ]
  },
  {
   "cell_type": "code",
   "execution_count": 17,
   "id": "0c4fc231-2d38-4ef8-97bc-03e726be5f77",
   "metadata": {},
   "outputs": [
    {
     "name": "stdout",
     "output_type": "stream",
     "text": [
      "Purple,Red,Orange,Green,White,Blue,yellow\n"
     ]
    }
   ],
   "source": [
    "print(joined_colors)"
   ]
  },
  {
   "cell_type": "markdown",
   "id": "ec3f01dd-41f1-46a9-8c05-48bbc046699b",
   "metadata": {},
   "source": [
    "##  2. split()\n",
    "* If you need to break a string into smaller strings based on a separator, you need the string split method."
   ]
  },
  {
   "cell_type": "code",
   "execution_count": 92,
   "id": "93c4bb42-e513-46ff-99e3-91b11be2f6b8",
   "metadata": {},
   "outputs": [],
   "source": [
    "string_1 = \"My Name is Sudhanshu Patil. I have enrolled in data analyst class\""
   ]
  },
  {
   "cell_type": "code",
   "execution_count": 94,
   "id": "7b5d1e92-7ccb-4bf1-a7b1-2fe39e12b9e1",
   "metadata": {},
   "outputs": [
    {
     "name": "stdout",
     "output_type": "stream",
     "text": [
      "My Name is Sudhanshu Patil. I have enrolled in data analyst class\n"
     ]
    }
   ],
   "source": [
    "print(string_1)"
   ]
  },
  {
   "cell_type": "code",
   "execution_count": 96,
   "id": "cdc869dc-c935-4aa7-8c23-32c2b85fd843",
   "metadata": {},
   "outputs": [],
   "source": [
    "split_func = string_1.split(\" \")"
   ]
  },
  {
   "cell_type": "code",
   "execution_count": 33,
   "id": "41af9e6e-f5b7-45f6-b23d-4f711a510d2c",
   "metadata": {},
   "outputs": [
    {
     "data": {
      "text/plain": [
       "['My',\n",
       " 'Name',\n",
       " 'is',\n",
       " 'Sudhanshu',\n",
       " 'Patil.',\n",
       " 'I',\n",
       " 'have',\n",
       " 'enrolled',\n",
       " 'in',\n",
       " 'data',\n",
       " 'analyst',\n",
       " 'class']"
      ]
     },
     "execution_count": 33,
     "metadata": {},
     "output_type": "execute_result"
    }
   ],
   "source": [
    "split_func"
   ]
  },
  {
   "cell_type": "code",
   "execution_count": 35,
   "id": "0fd4426a-7438-4ef0-99e1-933e3982baa2",
   "metadata": {},
   "outputs": [
    {
     "name": "stdout",
     "output_type": "stream",
     "text": [
      "['My', 'Name', 'is', 'Sudhanshu', 'Patil.', 'I', 'have', 'enrolled', 'in', 'data', 'analyst', 'class']\n"
     ]
    }
   ],
   "source": [
    "print(split_func)"
   ]
  },
  {
   "cell_type": "code",
   "execution_count": 114,
   "id": "a6404e4e-18cf-4037-891a-ce178b200687",
   "metadata": {},
   "outputs": [],
   "source": [
    "string_2 = \"Hello | World | I am Ram | I like blue color\""
   ]
  },
  {
   "cell_type": "code",
   "execution_count": 116,
   "id": "63443f78-819a-4eea-bdbb-8584b7ba5a60",
   "metadata": {},
   "outputs": [
    {
     "name": "stdout",
     "output_type": "stream",
     "text": [
      "Hello | World | I am Ram | I like blue color\n"
     ]
    }
   ],
   "source": [
    "print(string_2)"
   ]
  },
  {
   "cell_type": "code",
   "execution_count": 122,
   "id": "744ec911-7f7b-43e5-b695-cdd0f6a5141f",
   "metadata": {},
   "outputs": [],
   "source": [
    "split_func_1 = string_2.split(\" | \")"
   ]
  },
  {
   "cell_type": "code",
   "execution_count": 141,
   "id": "414ded14-b5d9-4f09-94bb-f3f8b68ee645",
   "metadata": {},
   "outputs": [
    {
     "name": "stdout",
     "output_type": "stream",
     "text": [
      "['Hello', 'World', 'I am Ram', 'I like blue color']\n"
     ]
    }
   ],
   "source": [
    "print(split_func_1)"
   ]
  },
  {
   "cell_type": "code",
   "execution_count": 126,
   "id": "b7702b13-d34e-4e7c-93e3-730ef2a760ea",
   "metadata": {},
   "outputs": [],
   "source": [
    "split_func_2 = string_2.split(\" | \" , maxsplit = 1)"
   ]
  },
  {
   "cell_type": "code",
   "execution_count": 136,
   "id": "c99da7dc-dc23-4591-b501-1641a1dd5641",
   "metadata": {},
   "outputs": [
    {
     "name": "stdout",
     "output_type": "stream",
     "text": [
      "['Hello', 'World | I am Ram | I like blue color']\n"
     ]
    }
   ],
   "source": [
    "print(split_func_2)"
   ]
  },
  {
   "cell_type": "markdown",
   "id": "a7bbaa7d-2ea4-4559-8657-81b6544035ed",
   "metadata": {},
   "source": [
    "## 3. lower()\n",
    "*  lower() function to convert  string to lower case"
   ]
  },
  {
   "cell_type": "code",
   "execution_count": 147,
   "id": "aad851e9-7d5c-4ff5-84a3-ab43143d55f1",
   "metadata": {},
   "outputs": [],
   "source": [
    "txt_1 = \"At the Paris 2024 Olympic Games, Aman Sehrawat of India made his mark by winning a\n",
    "bronze medal in the men’s 57kg wrestling category, \n",
    "adding a proud moment to India’s Olympic wrestling history. His performance was remarkable, showcasing his skill .\""
   ]
  },
  {
   "cell_type": "code",
   "execution_count": 149,
   "id": "53367466-eea6-4d26-85dc-102c89c77713",
   "metadata": {},
   "outputs": [
    {
     "name": "stdout",
     "output_type": "stream",
     "text": [
      "At the Paris 2024 Olympic Games, Aman Sehrawat of India made his mark by winning a bronze medal in the men’s 57kg wrestling category, adding a proud moment to India’s Olympic wrestling history. His performance was remarkable, showcasing his skill .\n"
     ]
    }
   ],
   "source": [
    "print(txt_1)"
   ]
  },
  {
   "cell_type": "code",
   "execution_count": 151,
   "id": "a4628ba7-a279-4325-9bf4-b4a3a870346c",
   "metadata": {},
   "outputs": [
    {
     "name": "stdout",
     "output_type": "stream",
     "text": [
      "at the paris 2024 olympic games, aman sehrawat of india made his mark by winning a bronze medal in the men’s 57kg wrestling category, adding a proud moment to india’s olympic wrestling history. his performance was remarkable, showcasing his skill .\n"
     ]
    }
   ],
   "source": [
    "print(txt_1.lower())\n",
    "# lower() function to convert\n",
    "# string to lower case"
   ]
  },
  {
   "cell_type": "markdown",
   "id": "43f8ed27-32be-4d44-af0f-b8ab4ac022af",
   "metadata": {},
   "source": [
    "## 4. upper()\n",
    "* upper() function to convert string to upper case"
   ]
  },
  {
   "cell_type": "code",
   "execution_count": 351,
   "id": "f7d7c5b6-e883-4483-9b17-9e7ef479ac14",
   "metadata": {},
   "outputs": [
    {
     "name": "stdout",
     "output_type": "stream",
     "text": [
      "AT THE PARIS 2024 OLYMPIC GAMES, AMAN SEHRAWAT OF INDIA MADE HIS MARK BY WINNING A BRONZE MEDAL IN THE MEN’S 57KG WRESTLING CATEGORY, ADDING A PROUD MOMENT TO INDIA’S OLYMPIC WRESTLING HISTORY. HIS PERFORMANCE WAS REMARKABLE, SHOWCASING HIS SKILL .\n"
     ]
    }
   ],
   "source": [
    "print(txt_1.upper())"
   ]
  },
  {
   "cell_type": "markdown",
   "id": "0fe3ae2a-6c3f-481c-b501-751a393d1eb4",
   "metadata": {},
   "source": [
    "## 5. title()\n",
    "* converts the first character to  upper case and rest to lower case"
   ]
  },
  {
   "cell_type": "code",
   "execution_count": 355,
   "id": "b45ce9eb-5b75-4914-b0cd-0ae4ba1badc7",
   "metadata": {},
   "outputs": [
    {
     "name": "stdout",
     "output_type": "stream",
     "text": [
      "At The Paris 2024 Olympic Games, Aman Sehrawat Of India Made His Mark By Winning A Bronze Medal In The Men’S 57Kg Wrestling Category, Adding A Proud Moment To India’S Olympic Wrestling History. His Performance Was Remarkable, Showcasing His Skill .\n"
     ]
    }
   ],
   "source": [
    "print(txt_1.title()) "
   ]
  },
  {
   "cell_type": "markdown",
   "id": "5aa3565f-7ffa-4b14-9332-3c24186ffff4",
   "metadata": {},
   "source": [
    "## 6. swapcase()\n",
    "* swaps the case of all characters in the string upper case character to lowercase and viceversa"
   ]
  },
  {
   "cell_type": "code",
   "execution_count": 357,
   "id": "ad5f1086-36a3-406f-a288-b148967ad8f4",
   "metadata": {},
   "outputs": [
    {
     "name": "stdout",
     "output_type": "stream",
     "text": [
      "aT THE pARIS 2024 oLYMPIC gAMES, aMAN sEHRAWAT OF iNDIA MADE HIS MARK BY WINNING A BRONZE MEDAL IN THE MEN’S 57KG WRESTLING CATEGORY, ADDING A PROUD MOMENT TO iNDIA’S oLYMPIC WRESTLING HISTORY. hIS PERFORMANCE WAS REMARKABLE, SHOWCASING HIS SKILL .\n"
     ]
    }
   ],
   "source": [
    "print(txt_1.swapcase())"
   ]
  },
  {
   "cell_type": "markdown",
   "id": "a47d7cc4-9ccf-4250-92bf-d313328096ab",
   "metadata": {},
   "source": [
    "## 7. capitalize()\n",
    "* convert the first character of a string to uppercase"
   ]
  },
  {
   "cell_type": "code",
   "execution_count": 359,
   "id": "cb1cdf1f-390f-4ec7-bc61-7a91577f1887",
   "metadata": {},
   "outputs": [
    {
     "name": "stdout",
     "output_type": "stream",
     "text": [
      "At the paris 2024 olympic games, aman sehrawat of india made his mark by winning a bronze medal in the men’s 57kg wrestling category, adding a proud moment to india’s olympic wrestling history. his performance was remarkable, showcasing his skill .\n"
     ]
    }
   ],
   "source": [
    "print(txt_1.capitalize())"
   ]
  },
  {
   "cell_type": "markdown",
   "id": "c5e0dd6a-1e77-47bc-b684-a918cff8a291",
   "metadata": {},
   "source": [
    "## 8. strip()\n",
    "* The strip method is for removing whitespace from the beginning and end of a string"
   ]
  },
  {
   "cell_type": "code",
   "execution_count": 179,
   "id": "9148ef3e-ee58-478d-9fec-494e4f7f4720",
   "metadata": {},
   "outputs": [],
   "source": [
    "txt_2 = '     \\nHello!\\nThis is a multi-line string.\\n      '"
   ]
  },
  {
   "cell_type": "code",
   "execution_count": 189,
   "id": "ced2c39f-884f-4ae9-b221-a91c1581bf44",
   "metadata": {},
   "outputs": [
    {
     "data": {
      "text/plain": [
       "'     \\nHello!\\nThis is a multi-line string.\\n      '"
      ]
     },
     "execution_count": 189,
     "metadata": {},
     "output_type": "execute_result"
    }
   ],
   "source": [
    "txt_2"
   ]
  },
  {
   "cell_type": "code",
   "execution_count": 191,
   "id": "198c9976-5f9d-40d8-a9c1-cb9701c75d7b",
   "metadata": {},
   "outputs": [
    {
     "data": {
      "text/plain": [
       "'Hello!\\nThis is a multi-line string.'"
      ]
     },
     "execution_count": 191,
     "metadata": {},
     "output_type": "execute_result"
    }
   ],
   "source": [
    "txt_2.strip()"
   ]
  },
  {
   "cell_type": "markdown",
   "id": "b4879a38-79fd-4585-b82e-3734023b963a",
   "metadata": {},
   "source": [
    "## 9. startswith()\n",
    "* The string startswith method can check whether one string is a prefix of another string."
   ]
  },
  {
   "cell_type": "code",
   "execution_count": 210,
   "id": "dd0a56f7-47d3-45ce-b6da-134f8c86a462",
   "metadata": {},
   "outputs": [],
   "source": [
    "property_id = \"UA-1234567\"\n",
    "## prefix is case sensitive\n"
   ]
  },
  {
   "cell_type": "code",
   "execution_count": 204,
   "id": "434b6075-1ffa-4aee-948b-48a0341c5fb9",
   "metadata": {},
   "outputs": [
    {
     "name": "stdout",
     "output_type": "stream",
     "text": [
      "UA-1234567\n"
     ]
    }
   ],
   "source": [
    "print(property_id)"
   ]
  },
  {
   "cell_type": "code",
   "execution_count": 206,
   "id": "e7be2191-b07b-4bc0-a542-fcc2233f2a62",
   "metadata": {},
   "outputs": [
    {
     "data": {
      "text/plain": [
       "False"
      ]
     },
     "execution_count": 206,
     "metadata": {},
     "output_type": "execute_result"
    }
   ],
   "source": [
    "property_id.startswith(\"ua\")"
   ]
  },
  {
   "cell_type": "code",
   "execution_count": 208,
   "id": "9cae820b-809d-4f94-95a5-59f7623f9915",
   "metadata": {},
   "outputs": [
    {
     "data": {
      "text/plain": [
       "True"
      ]
     },
     "execution_count": 208,
     "metadata": {},
     "output_type": "execute_result"
    }
   ],
   "source": [
    "property_id.startswith(\"UA\")"
   ]
  },
  {
   "cell_type": "markdown",
   "id": "2a512902-1ce0-494d-abbc-4956f542459d",
   "metadata": {},
   "source": [
    "## 10. endswith()\n",
    "* The endswith method can check whether one string is a suffix of another string.\n",
    "* The string endswith method works pretty much like the startswith method."
   ]
  },
  {
   "cell_type": "code",
   "execution_count": 219,
   "id": "ec48fe3c-37e0-47db-9fdd-7375db1423ff",
   "metadata": {},
   "outputs": [],
   "source": [
    "file_name = \"homework.pbix\""
   ]
  },
  {
   "cell_type": "code",
   "execution_count": 221,
   "id": "0e863803-4684-45c7-a394-fca4b9503c30",
   "metadata": {},
   "outputs": [
    {
     "data": {
      "text/plain": [
       "True"
      ]
     },
     "execution_count": 221,
     "metadata": {},
     "output_type": "execute_result"
    }
   ],
   "source": [
    "file_name.endswith(\"x\")"
   ]
  },
  {
   "cell_type": "markdown",
   "id": "8022b160-6328-43ac-946c-449635756615",
   "metadata": {},
   "source": [
    "## 11. splitlines()\n",
    "* The splitlines method is specifically for splitting up strings into lines."
   ]
  },
  {
   "cell_type": "code",
   "execution_count": 232,
   "id": "b5dd1e02-b90a-4676-9dc7-617d535dc1a7",
   "metadata": {},
   "outputs": [],
   "source": [
    "txt_3 = \"I'm Human! Who are you?\\nAre you – a Robot or a Human?\""
   ]
  },
  {
   "cell_type": "code",
   "execution_count": 234,
   "id": "48031a8a-d65a-4b5c-ba55-7f905e9df0d6",
   "metadata": {},
   "outputs": [
    {
     "data": {
      "text/plain": [
       "\"I'm Human! Who are you?\\nAre you – a Robot or a Human?\""
      ]
     },
     "execution_count": 234,
     "metadata": {},
     "output_type": "execute_result"
    }
   ],
   "source": [
    "txt_3"
   ]
  },
  {
   "cell_type": "code",
   "execution_count": 236,
   "id": "2a473657-9b95-48e9-a410-65a8c8b82f15",
   "metadata": {},
   "outputs": [
    {
     "name": "stdout",
     "output_type": "stream",
     "text": [
      "I'm Human! Who are you?\n",
      "Are you – a Robot or a Human?\n"
     ]
    }
   ],
   "source": [
    "print(txt_3)"
   ]
  },
  {
   "cell_type": "code",
   "execution_count": 238,
   "id": "35a12fd1-1dc9-47c3-8149-3847918e9c33",
   "metadata": {},
   "outputs": [
    {
     "data": {
      "text/plain": [
       "[\"I'm Human! Who are you?\", 'Are you – a Robot or a Human?']"
      ]
     },
     "execution_count": 238,
     "metadata": {},
     "output_type": "execute_result"
    }
   ],
   "source": [
    "txt_3.splitlines()"
   ]
  },
  {
   "cell_type": "markdown",
   "id": "515893bb-6e6a-4912-bbd2-d6612d8791d9",
   "metadata": {},
   "source": [
    "## 12. format()\n",
    "* Python's format method is used for string formatting (a.k.a. string interpolation)"
   ]
  },
  {
   "cell_type": "code",
   "execution_count": 273,
   "id": "95b08c58-5fa7-416b-a76e-8f2f632f0521",
   "metadata": {},
   "outputs": [],
   "source": [
    "txt_4 = \"I'm {species}! Who are you?\\nAre you – a {machine} or a {species}?\""
   ]
  },
  {
   "cell_type": "code",
   "execution_count": 275,
   "id": "07df9d12-8880-42c8-a24c-077d2122c820",
   "metadata": {},
   "outputs": [
    {
     "data": {
      "text/plain": [
       "\"I'm fish! Who are you?\\nAre you – a iron or a fish?\""
      ]
     },
     "execution_count": 275,
     "metadata": {},
     "output_type": "execute_result"
    }
   ],
   "source": [
    "txt_4.format(species=\"fish\" , machine=\"iron\")"
   ]
  },
  {
   "cell_type": "code",
   "execution_count": 277,
   "id": "32b76894-e644-4d06-a602-2170d805e0d5",
   "metadata": {},
   "outputs": [],
   "source": [
    "name = \"Iron Man\""
   ]
  },
  {
   "cell_type": "code",
   "execution_count": 279,
   "id": "7f0561f7-5375-4445-aaff-6954fb0db4cc",
   "metadata": {},
   "outputs": [
    {
     "name": "stdout",
     "output_type": "stream",
     "text": [
      "I am Iron Man!\n"
     ]
    }
   ],
   "source": [
    "print(f\"I am {name}!\")"
   ]
  },
  {
   "cell_type": "markdown",
   "id": "128342ce-fa1e-4996-b6be-c1a259198a09",
   "metadata": {},
   "source": [
    "## 13. count()\n",
    "* The string count method accepts a substring and returns the number of times that substring occurs within our string"
   ]
  },
  {
   "cell_type": "code",
   "execution_count": 282,
   "id": "8f27505c-a1b6-4470-9f43-12bbd411d9b2",
   "metadata": {},
   "outputs": [
    {
     "data": {
      "text/plain": [
       "\"I'm {species}! Who are you?\\nAre you – a {machine} or a {species}?\""
      ]
     },
     "execution_count": 282,
     "metadata": {},
     "output_type": "execute_result"
    }
   ],
   "source": [
    "txt_4"
   ]
  },
  {
   "cell_type": "code",
   "execution_count": 284,
   "id": "c5062742-2768-4ab4-8a24-37deaa2a0c29",
   "metadata": {},
   "outputs": [
    {
     "data": {
      "text/plain": [
       "4"
      ]
     },
     "execution_count": 284,
     "metadata": {},
     "output_type": "execute_result"
    }
   ],
   "source": [
    "txt_4.count(\"s\")"
   ]
  },
  {
   "cell_type": "markdown",
   "id": "da5d5b82-c6b7-4c06-8e27-f016df576750",
   "metadata": {},
   "source": [
    "## 14. removeprefix()\n",
    "* The removeprefix method will remove an optional prefix from the beginning of a string."
   ]
  },
  {
   "cell_type": "code",
   "execution_count": 287,
   "id": "1e87b8e5-9b4d-4de3-be90-228a7606732f",
   "metadata": {},
   "outputs": [
    {
     "data": {
      "text/plain": [
       "\"I'm {species}! Who are you?\\nAre you – a {machine} or a {species}?\""
      ]
     },
     "execution_count": 287,
     "metadata": {},
     "output_type": "execute_result"
    }
   ],
   "source": [
    "txt_4"
   ]
  },
  {
   "cell_type": "code",
   "execution_count": 291,
   "id": "b64664fd-a48e-468e-b920-d4a49b0ae87f",
   "metadata": {},
   "outputs": [
    {
     "data": {
      "text/plain": [
       "\"'m {species}! Who are you?\\nAre you – a {machine} or a {species}?\""
      ]
     },
     "execution_count": 291,
     "metadata": {},
     "output_type": "execute_result"
    }
   ],
   "source": [
    "txt_4.removeprefix(\"I\")"
   ]
  },
  {
   "cell_type": "markdown",
   "id": "5897612b-4084-4b15-afa1-9a9e0413c3cd",
   "metadata": {},
   "source": [
    "## 15. removesuffix()\n",
    "* The removesuffix method will remove an optional suffix from the end of a string."
   ]
  },
  {
   "cell_type": "code",
   "execution_count": 383,
   "id": "9a9e9780-84f7-4d20-8b8d-8352fad1265a",
   "metadata": {},
   "outputs": [
    {
     "data": {
      "text/plain": [
       "\"I'm {species}! Who are you?\\nAre you – a {machine} or a {species}?\""
      ]
     },
     "execution_count": 383,
     "metadata": {},
     "output_type": "execute_result"
    }
   ],
   "source": [
    "txt_4"
   ]
  },
  {
   "cell_type": "code",
   "execution_count": 385,
   "id": "46a65df5-99d1-492c-8c39-9e8d12e81bad",
   "metadata": {},
   "outputs": [
    {
     "data": {
      "text/plain": [
       "\"I'm {species}! Who are you?\""
      ]
     },
     "execution_count": 385,
     "metadata": {},
     "output_type": "execute_result"
    }
   ],
   "source": [
    "txt_4.removesuffix(\"\\nAre you – a {machine} or a {species}?\")"
   ]
  },
  {
   "cell_type": "markdown",
   "id": "04e048e3-762f-415a-935c-f3143a90a4a1",
   "metadata": {},
   "source": [
    "## 16. replace(old, new): replace function is used to replace set of char or string from a string"
   ]
  },
  {
   "cell_type": "code",
   "execution_count": 302,
   "id": "4daf67f9-a329-470d-a846-960d0d74581f",
   "metadata": {},
   "outputs": [
    {
     "data": {
      "text/plain": [
       "\"I'm {species}! Who are you?\\nAre you – a {machine} or a {species}?\""
      ]
     },
     "execution_count": 302,
     "metadata": {},
     "output_type": "execute_result"
    }
   ],
   "source": [
    "txt_4"
   ]
  },
  {
   "cell_type": "code",
   "execution_count": 307,
   "id": "676839a6-a062-4567-809c-0628836d6e29",
   "metadata": {},
   "outputs": [
    {
     "data": {
      "text/plain": [
       "\"I'm {Human}! Who are you?\\nAre you – a {machine} or a {Human}?\""
      ]
     },
     "execution_count": 307,
     "metadata": {},
     "output_type": "execute_result"
    }
   ],
   "source": [
    "txt_4.replace(\"species\", \"Human\")"
   ]
  },
  {
   "cell_type": "code",
   "execution_count": 309,
   "id": "783537e4-1c87-4842-8a4c-125a3c4621a2",
   "metadata": {},
   "outputs": [
    {
     "data": {
      "text/plain": [
       "\"I'm {species}! Who are you?\\nAre you – a {Robot} or a {species}?\""
      ]
     },
     "execution_count": 309,
     "metadata": {},
     "output_type": "execute_result"
    }
   ],
   "source": [
    "txt_4.replace(\"machine\", \"Robot\")"
   ]
  },
  {
   "cell_type": "code",
   "execution_count": 317,
   "id": "1e1b06e3-d398-494a-b29d-d998a74f0722",
   "metadata": {},
   "outputs": [
    {
     "data": {
      "text/plain": [
       "\"I'm {Human}! Who are you?\\nAre you – a {Robot} or a {Human}?\""
      ]
     },
     "execution_count": 317,
     "metadata": {},
     "output_type": "execute_result"
    }
   ],
   "source": [
    "txt_4.replace(\"species\", \"Human\").replace(\"machine\",\"Robot\")"
   ]
  },
  {
   "cell_type": "markdown",
   "id": "fd87b602-40fe-4d18-9fe0-53cb5bf06cdb",
   "metadata": {},
   "source": [
    "## 17. find()\n",
    "* To find a substring in a string.\n",
    "* It returns the lowest index of the substring if it is found. If the substring is not found, it returns -1."
   ]
  },
  {
   "cell_type": "code",
   "execution_count": 330,
   "id": "5b00dada-9e41-48ce-b49e-f9f7cad095f2",
   "metadata": {},
   "outputs": [
    {
     "data": {
      "text/plain": [
       "'At the Paris 2024 Olympic Games, Aman Sehrawat of India made his mark by winning a bronze medal in the men’s 57kg wrestling category, adding a proud moment to India’s Olympic wrestling history. His performance was remarkable, showcasing his skill .'"
      ]
     },
     "execution_count": 330,
     "metadata": {},
     "output_type": "execute_result"
    }
   ],
   "source": [
    "txt_1"
   ]
  },
  {
   "cell_type": "code",
   "execution_count": 332,
   "id": "830d3860-97ac-428b-841d-8b35d40e4c5d",
   "metadata": {},
   "outputs": [
    {
     "data": {
      "text/plain": [
       "33"
      ]
     },
     "execution_count": 332,
     "metadata": {},
     "output_type": "execute_result"
    }
   ],
   "source": [
    "txt_1.find('Aman')"
   ]
  },
  {
   "cell_type": "code",
   "execution_count": 372,
   "id": "ba5a0d25-139b-4cc4-a910-80102cffd2c5",
   "metadata": {},
   "outputs": [
    {
     "data": {
      "text/plain": [
       "-1"
      ]
     },
     "execution_count": 372,
     "metadata": {},
     "output_type": "execute_result"
    }
   ],
   "source": [
    "txt_1.find('Tony')"
   ]
  },
  {
   "cell_type": "markdown",
   "id": "52501e65-196b-4673-be14-dd04306ff94b",
   "metadata": {},
   "source": [
    "## 18. casefold()\n",
    "* Python String casefold() method is used to convert string to lowercase. It is similar to the Python lower() string method, but the case removes all the case distinctions present in a string"
   ]
  },
  {
   "cell_type": "code",
   "execution_count": 393,
   "id": "cecb8a13-57c6-4fab-b2f1-d81892b4b5e1",
   "metadata": {},
   "outputs": [
    {
     "data": {
      "text/plain": [
       "'At the Paris 2024 Olympic Games, Aman Sehrawat of India made his mark by winning a bronze medal in the men’s 57kg wrestling category, adding a proud moment to India’s Olympic wrestling history. His performance was remarkable, showcasing his skill .'"
      ]
     },
     "execution_count": 393,
     "metadata": {},
     "output_type": "execute_result"
    }
   ],
   "source": [
    "txt_1"
   ]
  },
  {
   "cell_type": "code",
   "execution_count": 376,
   "id": "75d3b630-0e8b-415e-b51f-2179d884305a",
   "metadata": {},
   "outputs": [
    {
     "data": {
      "text/plain": [
       "'at the paris 2024 olympic games, aman sehrawat of india made his mark by winning a bronze medal in the men’s 57kg wrestling category, adding a proud moment to india’s olympic wrestling history. his performance was remarkable, showcasing his skill .'"
      ]
     },
     "execution_count": 376,
     "metadata": {},
     "output_type": "execute_result"
    }
   ],
   "source": [
    "txt_1.casefold()"
   ]
  },
  {
   "cell_type": "markdown",
   "id": "bde932b5-d2d5-49a0-8f73-28a35f52cacc",
   "metadata": {},
   "source": [
    "## 19. center()\n",
    "* Python String center() method creates and returns a new string that is padded with the specified character.\n",
    "\n",
    "#### Parameters:\n",
    "* a. length: length of the string after padding with the characters.\n",
    "* b. fillchar: (optional) characters which need to be padded. If it’s not provided, space is taken as the default argument.\n",
    "\n",
    "#### NOTE:  length should be greater than length of string"
   ]
  },
  {
   "cell_type": "code",
   "execution_count": 449,
   "id": "fcffafb3-788d-4e10-8050-b99c9bfd73ae",
   "metadata": {},
   "outputs": [],
   "source": [
    "string_3 = \"India won the Asian Champions Trophy 2023 after a sensational final against Malaysia with the final score of 4-3\""
   ]
  },
  {
   "cell_type": "code",
   "execution_count": 490,
   "id": "a32e4642-4e3a-431a-a042-418e2839b612",
   "metadata": {},
   "outputs": [],
   "source": [
    "str_3 = string_3.center(120, \"&\")"
   ]
  },
  {
   "cell_type": "code",
   "execution_count": 494,
   "id": "592efd25-dd37-4799-ae49-3a446e9c2fd0",
   "metadata": {},
   "outputs": [
    {
     "name": "stdout",
     "output_type": "stream",
     "text": [
      "&&&&India won the Asian Champions Trophy 2023 after a sensational final against Malaysia with the final score of 4-3&&&&\n"
     ]
    }
   ],
   "source": [
    "print(str_3)"
   ]
  },
  {
   "cell_type": "markdown",
   "id": "2055358a-9d95-46db-8914-b4b2cf7928fe",
   "metadata": {},
   "source": [
    "## 20. count()\n",
    "* Python String count() function returns the number of occurrences of a substring within a String.\n",
    "* NOTE : arg is case sensitive"
   ]
  },
  {
   "cell_type": "code",
   "execution_count": 517,
   "id": "f9f50f56-ab00-4242-952e-fb3c0b69ad47",
   "metadata": {},
   "outputs": [
    {
     "data": {
      "text/plain": [
       "'India won the Asian Champions Trophy 2023 after a sensational final against Malaysia with the final score of 4-3'"
      ]
     },
     "execution_count": 517,
     "metadata": {},
     "output_type": "execute_result"
    }
   ],
   "source": [
    "string_3"
   ]
  },
  {
   "cell_type": "code",
   "execution_count": 521,
   "id": "fd88bea1-76e1-430c-8bc8-32f6d3021933",
   "metadata": {},
   "outputs": [
    {
     "data": {
      "text/plain": [
       "1"
      ]
     },
     "execution_count": 521,
     "metadata": {},
     "output_type": "execute_result"
    }
   ],
   "source": [
    "string_3.count(\"A\")"
   ]
  },
  {
   "cell_type": "code",
   "execution_count": 523,
   "id": "86a26886-f625-4a01-9149-2f892492ec47",
   "metadata": {},
   "outputs": [
    {
     "data": {
      "text/plain": [
       "14"
      ]
     },
     "execution_count": 523,
     "metadata": {},
     "output_type": "execute_result"
    }
   ],
   "source": [
    "string_3.count(\"a\")"
   ]
  },
  {
   "cell_type": "code",
   "execution_count": 531,
   "id": "65dc2de9-52e5-47bd-b6d6-304ab108e25b",
   "metadata": {},
   "outputs": [
    {
     "data": {
      "text/plain": [
       "1"
      ]
     },
     "execution_count": 531,
     "metadata": {},
     "output_type": "execute_result"
    }
   ],
   "source": [
    "string_3.count(\"Trophy\")"
   ]
  },
  {
   "cell_type": "markdown",
   "id": "de7538e8-f3d5-4b01-82db-b3b58a9035ce",
   "metadata": {},
   "source": [
    "## 21. encode()\n",
    "*  converts a string value into a collection of bytes, using an encoding scheme specified by the user"
   ]
  },
  {
   "cell_type": "markdown",
   "id": "94c43e80-db97-4f99-ac29-ead81b97f171",
   "metadata": {},
   "source": [
    "Syntax: encode(encoding, errors)\n",
    "\n",
    "Parameters: \n",
    "\n",
    "* encoding: Specifies the encoding on the basis of which encoding has to be performed. \n",
    "* errors: Decides how to handle the errors if they occur, e.g ‘strict’ raises Unicode error in case of exception and ‘ignore’ ignores the errors that\n",
    "  occurred. There are six types of error response\n",
    "* strict – default response which raises a UnicodeDecodeError exception on failure\n",
    "* ignore – ignores the unencodable unicode from the result\n",
    "* replace – replaces the unencodable unicode to a question mark ?\n",
    "* xmlcharrefreplace – inserts XML character reference instead of unencodable unicode\n",
    "* backslashreplace – inserts a \\uNNNN escape sequence instead of unencodable unicode\n",
    "* namereplace – inserts a \\N{…} escape sequence instead of unencodable unicode\n",
    "\n",
    "* Return:  Returns the string in the encoded form"
   ]
  },
  {
   "cell_type": "code",
   "execution_count": 560,
   "id": "41326956-e4ac-4bf7-bb9b-6c6fbc4b0e85",
   "metadata": {},
   "outputs": [],
   "source": [
    "from encodings.aliases import aliases"
   ]
  },
  {
   "cell_type": "code",
   "execution_count": 656,
   "id": "843ebe5e-32cd-4fe7-ab6e-69f069b33897",
   "metadata": {},
   "outputs": [
    {
     "name": "stdout",
     "output_type": "stream",
     "text": [
      "dict_keys(['646', 'ansi_x3.4_1968', 'ansi_x3_4_1968', 'ansi_x3.4_1986', 'cp367', 'csascii', 'ibm367', 'iso646_us', 'iso_646.irv_1991', 'iso_ir_6', 'us', 'us_ascii', 'base64', 'base_64', 'big5_tw', 'csbig5', 'big5_hkscs', 'hkscs', 'bz2', '037', 'csibm037', 'ebcdic_cp_ca', 'ebcdic_cp_nl', 'ebcdic_cp_us', 'ebcdic_cp_wt', 'ibm037', 'ibm039', '1026', 'csibm1026', 'ibm1026', '1125', 'ibm1125', 'cp866u', 'ruscii', '1140', 'ibm1140', '1250', 'windows_1250', '1251', 'windows_1251', '1252', 'windows_1252', '1253', 'windows_1253', '1254', 'windows_1254', '1255', 'windows_1255', '1256', 'windows_1256', '1257', 'windows_1257', '1258', 'windows_1258', '273', 'ibm273', 'csibm273', '424', 'csibm424', 'ebcdic_cp_he', 'ibm424', '437', 'cspc8codepage437', 'ibm437', '500', 'csibm500', 'ebcdic_cp_be', 'ebcdic_cp_ch', 'ibm500', '775', 'cspc775baltic', 'ibm775', '850', 'cspc850multilingual', 'ibm850', '852', 'cspcp852', 'ibm852', '855', 'csibm855', 'ibm855', '857', 'csibm857', 'ibm857', '858', 'csibm858', 'ibm858', '860', 'csibm860', 'ibm860', '861', 'cp_is', 'csibm861', 'ibm861', '862', 'cspc862latinhebrew', 'ibm862', '863', 'csibm863', 'ibm863', '864', 'csibm864', 'ibm864', '865', 'csibm865', 'ibm865', '866', 'csibm866', 'ibm866', '869', 'cp_gr', 'csibm869', 'ibm869', '932', 'ms932', 'mskanji', 'ms_kanji', '949', 'ms949', 'uhc', '950', 'ms950', 'jisx0213', 'eucjis2004', 'euc_jis2004', 'eucjisx0213', 'eucjp', 'ujis', 'u_jis', 'euckr', 'korean', 'ksc5601', 'ks_c_5601', 'ks_c_5601_1987', 'ksx1001', 'ks_x_1001', 'gb18030_2000', 'chinese', 'csiso58gb231280', 'euc_cn', 'euccn', 'eucgb2312_cn', 'gb2312_1980', 'gb2312_80', 'iso_ir_58', '936', 'cp936', 'ms936', 'hex', 'roman8', 'r8', 'csHPRoman8', 'cp1051', 'ibm1051', 'hzgb', 'hz_gb', 'hz_gb_2312', 'csiso2022jp', 'iso2022jp', 'iso_2022_jp', 'iso2022jp_1', 'iso_2022_jp_1', 'iso2022jp_2', 'iso_2022_jp_2', 'iso_2022_jp_2004', 'iso2022jp_2004', 'iso2022jp_3', 'iso_2022_jp_3', 'iso2022jp_ext', 'iso_2022_jp_ext', 'csiso2022kr', 'iso2022kr', 'iso_2022_kr', 'csisolatin6', 'iso_8859_10', 'iso_8859_10_1992', 'iso_ir_157', 'l6', 'latin6', 'thai', 'iso_8859_11', 'iso_8859_11_2001', 'iso_8859_13', 'l7', 'latin7', 'iso_8859_14', 'iso_8859_14_1998', 'iso_celtic', 'iso_ir_199', 'l8', 'latin8', 'iso_8859_15', 'l9', 'latin9', 'iso_8859_16', 'iso_8859_16_2001', 'iso_ir_226', 'l10', 'latin10', 'csisolatin2', 'iso_8859_2', 'iso_8859_2_1987', 'iso_ir_101', 'l2', 'latin2', 'csisolatin3', 'iso_8859_3', 'iso_8859_3_1988', 'iso_ir_109', 'l3', 'latin3', 'csisolatin4', 'iso_8859_4', 'iso_8859_4_1988', 'iso_ir_110', 'l4', 'latin4', 'csisolatincyrillic', 'cyrillic', 'iso_8859_5', 'iso_8859_5_1988', 'iso_ir_144', 'arabic', 'asmo_708', 'csisolatinarabic', 'ecma_114', 'iso_8859_6', 'iso_8859_6_1987', 'iso_ir_127', 'csisolatingreek', 'ecma_118', 'elot_928', 'greek', 'greek8', 'iso_8859_7', 'iso_8859_7_1987', 'iso_ir_126', 'csisolatinhebrew', 'hebrew', 'iso_8859_8', 'iso_8859_8_1988', 'iso_ir_138', 'csisolatin5', 'iso_8859_9', 'iso_8859_9_1989', 'iso_ir_148', 'l5', 'latin5', 'cp1361', 'ms1361', 'cskoi8r', 'kz_1048', 'rk1048', 'strk1048_2002', '8859', 'cp819', 'csisolatin1', 'ibm819', 'iso8859', 'iso8859_1', 'iso_8859_1', 'iso_8859_1_1987', 'iso_ir_100', 'l1', 'latin', 'latin1', 'maccyrillic', 'macgreek', 'maciceland', 'maccentraleurope', 'mac_centeuro', 'maclatin2', 'macintosh', 'macroman', 'macturkish', 'ansi', 'dbcs', 'csptcp154', 'pt154', 'cp154', 'cyrillic_asian', 'quopri', 'quoted_printable', 'quotedprintable', 'rot13', 'csshiftjis', 'shiftjis', 'sjis', 's_jis', 'shiftjis2004', 'sjis_2004', 's_jis_2004', 'shiftjisx0213', 'sjisx0213', 's_jisx0213', 'tis620', 'tis_620_0', 'tis_620_2529_0', 'tis_620_2529_1', 'iso_ir_166', 'u16', 'utf16', 'unicodebigunmarked', 'utf_16be', 'unicodelittleunmarked', 'utf_16le', 'u32', 'utf32', 'utf_32be', 'utf_32le', 'u7', 'utf7', 'unicode_1_1_utf_7', 'u8', 'utf', 'utf8', 'utf8_ucs2', 'utf8_ucs4', 'cp65001', 'uu', 'zip', 'zlib', 'x_mac_japanese', 'x_mac_korean', 'x_mac_simp_chinese', 'x_mac_trad_chinese'])\n"
     ]
    }
   ],
   "source": [
    "print(aliases.keys())\n",
    "## all below encoders encodes different specified characters"
   ]
  },
  {
   "cell_type": "code",
   "execution_count": 654,
   "id": "e991c842-e82c-406a-bbcf-93010c0a25b1",
   "metadata": {},
   "outputs": [
    {
     "data": {
      "text/plain": [
       "'My Name is Sudhanshu Patil. I have enrolled in data analyst class'"
      ]
     },
     "execution_count": 654,
     "metadata": {},
     "output_type": "execute_result"
    }
   ],
   "source": [
    "string_1"
   ]
  },
  {
   "cell_type": "code",
   "execution_count": 576,
   "id": "112bca1c-3fa6-4996-a9a4-35adccb76955",
   "metadata": {},
   "outputs": [
    {
     "name": "stdout",
     "output_type": "stream",
     "text": [
      "b'My Name is Sudhanshu Patil. I have enrolled in data analyst class'\n"
     ]
    }
   ],
   "source": [
    "print(string_1.encode('8859'))"
   ]
  },
  {
   "cell_type": "code",
   "execution_count": 604,
   "id": "0446ae9f-9c42-40e1-a094-8b12fc5eec96",
   "metadata": {},
   "outputs": [
    {
     "name": "stdout",
     "output_type": "stream",
     "text": [
      "b'My Name is Sudhanshu Patil. I have enrolled in data analyst class'\n"
     ]
    }
   ],
   "source": [
    "print(string_1.encode('ascii', errors='ignore'))\n",
    "## original encoder csascii"
   ]
  },
  {
   "cell_type": "code",
   "execution_count": 586,
   "id": "3052b7ea-9866-4329-9956-6f1adfd20ef3",
   "metadata": {},
   "outputs": [],
   "source": [
    "txt01 = \"Hello, World!!\""
   ]
  },
  {
   "cell_type": "code",
   "execution_count": 588,
   "id": "f63d2991-9d61-4a09-8eb0-843bdee32e4b",
   "metadata": {},
   "outputs": [
    {
     "data": {
      "text/plain": [
       "'Hello, World!!'"
      ]
     },
     "execution_count": 588,
     "metadata": {},
     "output_type": "execute_result"
    }
   ],
   "source": [
    "txt01"
   ]
  },
  {
   "cell_type": "code",
   "execution_count": 590,
   "id": "72341a11-2556-46d3-b5ec-9929f681fe15",
   "metadata": {},
   "outputs": [],
   "source": [
    "encodedtxt = txt01.encode('utf-8')"
   ]
  },
  {
   "cell_type": "code",
   "execution_count": 592,
   "id": "d7de8df4-5b73-40da-8fac-b52b63ec266e",
   "metadata": {},
   "outputs": [
    {
     "data": {
      "text/plain": [
       "b'Hello, World!!'"
      ]
     },
     "execution_count": 592,
     "metadata": {},
     "output_type": "execute_result"
    }
   ],
   "source": [
    "encodedtxt"
   ]
  },
  {
   "cell_type": "code",
   "execution_count": 596,
   "id": "c303ed3b-8d19-40a8-9697-6d2b6f5021aa",
   "metadata": {},
   "outputs": [],
   "source": [
    "decodedtxt = encodedtxt.decode('utf-8')"
   ]
  },
  {
   "cell_type": "code",
   "execution_count": 600,
   "id": "3c2d1d6e-c5aa-4f14-b07b-e751d9237ce8",
   "metadata": {},
   "outputs": [
    {
     "data": {
      "text/plain": [
       "'Hello, World!!'"
      ]
     },
     "execution_count": 600,
     "metadata": {},
     "output_type": "execute_result"
    }
   ],
   "source": [
    "decodedtxt"
   ]
  },
  {
   "cell_type": "code",
   "execution_count": 646,
   "id": "44397cba-4335-488c-9c6b-4ffc93ffd0c0",
   "metadata": {},
   "outputs": [],
   "source": [
    "txt02 = \"Hello, World!!^%^&&Привет*\""
   ]
  },
  {
   "cell_type": "code",
   "execution_count": 648,
   "id": "3e8ea362-47a2-4778-b2b9-2af05920646d",
   "metadata": {},
   "outputs": [
    {
     "data": {
      "text/plain": [
       "'Hello, World!!^%^&&Привет*'"
      ]
     },
     "execution_count": 648,
     "metadata": {},
     "output_type": "execute_result"
    }
   ],
   "source": [
    "txt02"
   ]
  },
  {
   "cell_type": "code",
   "execution_count": 650,
   "id": "f33c95d0-11a0-4692-aaa8-8e3dc07ad65e",
   "metadata": {},
   "outputs": [
    {
     "name": "stdout",
     "output_type": "stream",
     "text": [
      "b'Hello, World!!^%^&&??????*'\n"
     ]
    }
   ],
   "source": [
    "print(txt02.encode('ascii', errors = 'replace'))"
   ]
  },
  {
   "cell_type": "markdown",
   "id": "a850bf63-06f1-4deb-85be-c4fda851bc22",
   "metadata": {},
   "source": [
    "## 22. Index()\n",
    "* allows a user to find the index of the first occurrence of an existing substring inside a given string\n",
    "* Syntax:  string_obj.index(substring, start, end)"
   ]
  },
  {
   "cell_type": "code",
   "execution_count": 662,
   "id": "5ea31a9e-5e78-44ac-a9ce-940a322f1011",
   "metadata": {},
   "outputs": [
    {
     "data": {
      "text/plain": [
       "'Hello, World!!'"
      ]
     },
     "execution_count": 662,
     "metadata": {},
     "output_type": "execute_result"
    }
   ],
   "source": [
    "txt01"
   ]
  },
  {
   "cell_type": "code",
   "execution_count": 664,
   "id": "9965b4be-59b8-4fbb-83a0-424011937c70",
   "metadata": {},
   "outputs": [
    {
     "data": {
      "text/plain": [
       "2"
      ]
     },
     "execution_count": 664,
     "metadata": {},
     "output_type": "execute_result"
    }
   ],
   "source": [
    "txt01.index('l')"
   ]
  },
  {
   "cell_type": "code",
   "execution_count": 666,
   "id": "752a4437-bed6-4207-8201-9183ea416290",
   "metadata": {},
   "outputs": [
    {
     "data": {
      "text/plain": [
       "11"
      ]
     },
     "execution_count": 666,
     "metadata": {},
     "output_type": "execute_result"
    }
   ],
   "source": [
    "txt01.index('d')"
   ]
  },
  {
   "cell_type": "markdown",
   "id": "4fe4b6af-c0c3-49b3-8688-f875fdbb485a",
   "metadata": {},
   "source": [
    "## 23. isalnum()\n",
    "*  method checks whether all the characters in a given string are either alphabet or numeric (alphanumeric) characters.\n",
    "*  Syntax:  string_name.isalnum()"
   ]
  },
  {
   "cell_type": "code",
   "execution_count": 673,
   "id": "c17c6ebd-45ef-4948-a883-995598082694",
   "metadata": {},
   "outputs": [
    {
     "data": {
      "text/plain": [
       "'My Name is Sudhanshu Patil. I have enrolled in data analyst class'"
      ]
     },
     "execution_count": 673,
     "metadata": {},
     "output_type": "execute_result"
    }
   ],
   "source": [
    "string_1"
   ]
  },
  {
   "cell_type": "code",
   "execution_count": 675,
   "id": "46f2a38b-5ab9-404d-b325-c4a4c80c74e2",
   "metadata": {},
   "outputs": [
    {
     "data": {
      "text/plain": [
       "False"
      ]
     },
     "execution_count": 675,
     "metadata": {},
     "output_type": "execute_result"
    }
   ],
   "source": [
    "string_1.isalnum()"
   ]
  },
  {
   "cell_type": "code",
   "execution_count": 683,
   "id": "1e71f5b0-cdcd-4ea4-a0dd-068fc2c7b43e",
   "metadata": {},
   "outputs": [],
   "source": [
    "txt03 = \"I am 29 Years Old.\""
   ]
  },
  {
   "cell_type": "code",
   "execution_count": 685,
   "id": "29d633d5-8a13-4f0f-bfe4-4abc4c87c6a4",
   "metadata": {},
   "outputs": [
    {
     "data": {
      "text/plain": [
       "'I am 29 Years Old.'"
      ]
     },
     "execution_count": 685,
     "metadata": {},
     "output_type": "execute_result"
    }
   ],
   "source": [
    "txt03"
   ]
  },
  {
   "cell_type": "code",
   "execution_count": 687,
   "id": "c45b18b1-0593-44ba-8089-b8953d1c2fbd",
   "metadata": {},
   "outputs": [
    {
     "data": {
      "text/plain": [
       "False"
      ]
     },
     "execution_count": 687,
     "metadata": {},
     "output_type": "execute_result"
    }
   ],
   "source": [
    "txt03.isalnum()"
   ]
  },
  {
   "cell_type": "code",
   "execution_count": 695,
   "id": "ebd822c6-571c-4d16-b8a6-5cf009fe8eca",
   "metadata": {},
   "outputs": [],
   "source": [
    "txt04 = \"456asdf\""
   ]
  },
  {
   "cell_type": "code",
   "execution_count": 697,
   "id": "8e480878-d1a7-4371-8bfe-dc2fa66e7268",
   "metadata": {},
   "outputs": [
    {
     "data": {
      "text/plain": [
       "'456asdf'"
      ]
     },
     "execution_count": 697,
     "metadata": {},
     "output_type": "execute_result"
    }
   ],
   "source": [
    "txt04"
   ]
  },
  {
   "cell_type": "code",
   "execution_count": 699,
   "id": "123e7198-1829-41e8-bc7b-af5dec450eea",
   "metadata": {},
   "outputs": [
    {
     "data": {
      "text/plain": [
       "True"
      ]
     },
     "execution_count": 699,
     "metadata": {},
     "output_type": "execute_result"
    }
   ],
   "source": [
    "txt04.isalnum()"
   ]
  },
  {
   "cell_type": "code",
   "execution_count": 701,
   "id": "6e248c21-c415-4e4b-b38a-a744d17a7b90",
   "metadata": {},
   "outputs": [],
   "source": [
    "txt05 = \"sudhanshu\""
   ]
  },
  {
   "cell_type": "code",
   "execution_count": 703,
   "id": "26eb0e29-ad18-4333-850d-a33eb4befe4e",
   "metadata": {},
   "outputs": [
    {
     "data": {
      "text/plain": [
       "'sudhanshu'"
      ]
     },
     "execution_count": 703,
     "metadata": {},
     "output_type": "execute_result"
    }
   ],
   "source": [
    "txt05"
   ]
  },
  {
   "cell_type": "code",
   "execution_count": 705,
   "id": "d87ac5e2-016f-4d84-9199-70d9eb55a667",
   "metadata": {},
   "outputs": [
    {
     "data": {
      "text/plain": [
       "True"
      ]
     },
     "execution_count": 705,
     "metadata": {},
     "output_type": "execute_result"
    }
   ],
   "source": [
    "txt05.isalnum()"
   ]
  },
  {
   "cell_type": "markdown",
   "id": "f4de2407-ffb2-491d-853b-2d302bd82008",
   "metadata": {},
   "source": [
    "## 24. partition()\n",
    "* Splits the string at the first occurrence of the separator"
   ]
  },
  {
   "cell_type": "code",
   "execution_count": 708,
   "id": "80c02c27-ecf7-4cd5-9fe7-4d31c7f5750c",
   "metadata": {},
   "outputs": [
    {
     "data": {
      "text/plain": [
       "'My Name is Sudhanshu Patil. I have enrolled in data analyst class'"
      ]
     },
     "execution_count": 708,
     "metadata": {},
     "output_type": "execute_result"
    }
   ],
   "source": [
    "string_1"
   ]
  },
  {
   "cell_type": "code",
   "execution_count": 710,
   "id": "c77e5ed9-9f55-4083-bf7f-e3e356b0fa03",
   "metadata": {},
   "outputs": [
    {
     "data": {
      "text/plain": [
       "('My Name is Sudhanshu ', 'Patil', '. I have enrolled in data analyst class')"
      ]
     },
     "execution_count": 710,
     "metadata": {},
     "output_type": "execute_result"
    }
   ],
   "source": [
    "string_1.partition(\"Patil\")"
   ]
  },
  {
   "cell_type": "markdown",
   "id": "934ef2eb-0faa-42db-8aae-a66c299a19f0",
   "metadata": {},
   "source": [
    "## 25. isnumeric()\n",
    "* Returns “True” if all characters in the string are numeric characters"
   ]
  },
  {
   "cell_type": "code",
   "execution_count": 713,
   "id": "631574a2-75a3-466d-8db8-fa0ff8661684",
   "metadata": {},
   "outputs": [
    {
     "data": {
      "text/plain": [
       "'My Name is Sudhanshu Patil. I have enrolled in data analyst class'"
      ]
     },
     "execution_count": 713,
     "metadata": {},
     "output_type": "execute_result"
    }
   ],
   "source": [
    "string_1"
   ]
  },
  {
   "cell_type": "code",
   "execution_count": 715,
   "id": "2f45fa0f-a3fd-489a-9064-9f9893d9dea0",
   "metadata": {},
   "outputs": [
    {
     "data": {
      "text/plain": [
       "False"
      ]
     },
     "execution_count": 715,
     "metadata": {},
     "output_type": "execute_result"
    }
   ],
   "source": [
    "string_1.isnumeric()"
   ]
  },
  {
   "cell_type": "code",
   "execution_count": 717,
   "id": "e81cf076-8891-4318-b29f-5ed75af5bcb9",
   "metadata": {},
   "outputs": [
    {
     "data": {
      "text/plain": [
       "'I am 29 Years Old.'"
      ]
     },
     "execution_count": 717,
     "metadata": {},
     "output_type": "execute_result"
    }
   ],
   "source": [
    "txt03"
   ]
  },
  {
   "cell_type": "code",
   "execution_count": 719,
   "id": "d515b9b0-5d61-40d3-83a3-67ed0c644569",
   "metadata": {},
   "outputs": [
    {
     "data": {
      "text/plain": [
       "False"
      ]
     },
     "execution_count": 719,
     "metadata": {},
     "output_type": "execute_result"
    }
   ],
   "source": [
    "txt03.isnumeric()"
   ]
  },
  {
   "cell_type": "code",
   "execution_count": 721,
   "id": "8ecac5df-fd38-4263-a2b5-abefd6dea0e5",
   "metadata": {},
   "outputs": [
    {
     "data": {
      "text/plain": [
       "'456asdf'"
      ]
     },
     "execution_count": 721,
     "metadata": {},
     "output_type": "execute_result"
    }
   ],
   "source": [
    "txt04"
   ]
  },
  {
   "cell_type": "code",
   "execution_count": 723,
   "id": "af1ab921-5c00-4fa7-9991-8d9940725ba8",
   "metadata": {},
   "outputs": [
    {
     "data": {
      "text/plain": [
       "False"
      ]
     },
     "execution_count": 723,
     "metadata": {},
     "output_type": "execute_result"
    }
   ],
   "source": [
    "txt04.isnumeric()"
   ]
  },
  {
   "cell_type": "code",
   "execution_count": 739,
   "id": "afdb5005-a803-4db0-bca1-d64d4c2b5d12",
   "metadata": {},
   "outputs": [],
   "source": [
    "txt05 = \"1236646469\""
   ]
  },
  {
   "cell_type": "code",
   "execution_count": 741,
   "id": "e5a85872-c1da-443d-b1e7-837a724999e7",
   "metadata": {},
   "outputs": [
    {
     "data": {
      "text/plain": [
       "'1236646469'"
      ]
     },
     "execution_count": 741,
     "metadata": {},
     "output_type": "execute_result"
    }
   ],
   "source": [
    "txt05"
   ]
  },
  {
   "cell_type": "code",
   "execution_count": 743,
   "id": "f7b63f56-007a-492a-bef6-ac0e1757e0f7",
   "metadata": {},
   "outputs": [
    {
     "data": {
      "text/plain": [
       "True"
      ]
     },
     "execution_count": 743,
     "metadata": {},
     "output_type": "execute_result"
    }
   ],
   "source": [
    "txt05.isnumeric()"
   ]
  },
  {
   "cell_type": "markdown",
   "id": "ad23a5c6-9617-4239-9fd5-590f833e8697",
   "metadata": {},
   "source": [
    "## 26. len()\n",
    "* The len() function in Python is used to determine the length (the number of items) of an object."
   ]
  },
  {
   "cell_type": "code",
   "execution_count": 747,
   "id": "13ad9da7-b300-45da-befa-691537f3d5d0",
   "metadata": {},
   "outputs": [
    {
     "data": {
      "text/plain": [
       "'My Name is Sudhanshu Patil. I have enrolled in data analyst class'"
      ]
     },
     "execution_count": 747,
     "metadata": {},
     "output_type": "execute_result"
    }
   ],
   "source": [
    "string_1"
   ]
  },
  {
   "cell_type": "code",
   "execution_count": 749,
   "id": "c7ebe6a2-b870-4fb6-a2a8-16708d61cac3",
   "metadata": {},
   "outputs": [
    {
     "data": {
      "text/plain": [
       "65"
      ]
     },
     "execution_count": 749,
     "metadata": {},
     "output_type": "execute_result"
    }
   ],
   "source": [
    "len(string_1)"
   ]
  },
  {
   "cell_type": "code",
   "execution_count": null,
   "id": "475c5dd1-b69b-4865-959d-c5d080eb45b8",
   "metadata": {},
   "outputs": [],
   "source": []
  }
 ],
 "metadata": {
  "kernelspec": {
   "display_name": "Python 3 (ipykernel)",
   "language": "python",
   "name": "python3"
  },
  "language_info": {
   "codemirror_mode": {
    "name": "ipython",
    "version": 3
   },
   "file_extension": ".py",
   "mimetype": "text/x-python",
   "name": "python",
   "nbconvert_exporter": "python",
   "pygments_lexer": "ipython3",
   "version": "3.12.4"
  }
 },
 "nbformat": 4,
 "nbformat_minor": 5
}
